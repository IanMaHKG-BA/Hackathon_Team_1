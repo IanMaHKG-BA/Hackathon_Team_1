{
 "cells": [
  {
   "cell_type": "markdown",
   "metadata": {},
   "source": [
    "## Connect to ICW:"
   ]
  },
  {
   "cell_type": "code",
   "execution_count": 4,
   "metadata": {},
   "outputs": [],
   "source": [
    "import cadspy"
   ]
  },
  {
   "cell_type": "code",
   "execution_count": 5,
   "metadata": {},
   "outputs": [
    {
     "name": "stdin",
     "output_type": "stream",
     "text": [
      "Enter Password:  ········\n"
     ]
    }
   ],
   "source": [
    "icw = cadspy.DatabaseConnection(system='ICW', user='u213619')"
   ]
  },
  {
   "cell_type": "markdown",
   "metadata": {},
   "source": [
    "<br>\n",
    "<div class=\"alert alert-\" style = \"border-radius:10px;border-width:3px;border-color:salmon;font-family:Verdana,sans-serif;font-size:16px;\">\n",
    "\n",
    "<font size=\"4\">Can't connect to ICW? Instructions on how to get access to it in the links below:\n",
    "\n",
    "</font>\n",
    "</div>"
   ]
  },
  {
   "cell_type": "markdown",
   "metadata": {},
   "source": [
    "- Step 1: [Requesting Access to GitHub](https://baplc.sharepoint.com/sites/ask/SitePages/Requesting-Access-to-GitHub.aspx)\n",
    "\n",
    "Once your access to GitHub has been aproved, you need to:\n",
    "\n",
    "- Step 2: [Request access to British-Ent GitHub organisation](https://github.com/BritishAirways-Ent/insight-processes/blob/main/onboarding/Corporate_Directory_git.md)\n",
    "\n",
    "And\n",
    "\n",
    "- Step 3: [Setup Sagemaker Studio to access GitHub](https://github.com/BritishAirways-Ent/insight-processes/blob/main/onboarding/sagemaker_to_github_setup.md)\n",
    "\n",
    "<br>"
   ]
  },
  {
   "cell_type": "markdown",
   "metadata": {},
   "source": [
    "Below are some packages to get you started. You don't have to use them but you may find them useful!"
   ]
  },
  {
   "cell_type": "code",
   "execution_count": 6,
   "metadata": {},
   "outputs": [],
   "source": [
    "import numpy as np\n",
    "import pandas as pd\n",
    "import datetime as dt"
   ]
  },
  {
   "cell_type": "code",
   "execution_count": 7,
   "metadata": {},
   "outputs": [],
   "source": [
    "# diplay all rows and cols when using 'dataframe'.head() or 'dataframe'.tail()\n",
    "pd.set_option('display.max_columns', None)\n",
    "pd.set_option('display.max_rows', None)"
   ]
  },
  {
   "cell_type": "markdown",
   "metadata": {},
   "source": [
    "<br>\n",
    "\n",
    "### Data\n",
    "\n",
    "#### S19 Lounge Eligibility data"
   ]
  },
  {
   "cell_type": "code",
   "execution_count": 8,
   "metadata": {},
   "outputs": [],
   "source": [
    "query = \"\"\"\n",
    "\n",
    "sel * from LDB_SBOX_OR.HACKATHON_OPS_LOUNGE_ELIGIBILITY\n",
    "\n",
    "\"\"\"\n",
    "\n",
    "df_lounge_eligibility = icw.queryToDataframe(query)"
   ]
  },
  {
   "cell_type": "code",
   "execution_count": 9,
   "metadata": {},
   "outputs": [
    {
     "data": {
      "text/html": [
       "<div>\n",
       "<style scoped>\n",
       "    .dataframe tbody tr th:only-of-type {\n",
       "        vertical-align: middle;\n",
       "    }\n",
       "\n",
       "    .dataframe tbody tr th {\n",
       "        vertical-align: top;\n",
       "    }\n",
       "\n",
       "    .dataframe thead th {\n",
       "        text-align: right;\n",
       "    }\n",
       "</style>\n",
       "<table border=\"1\" class=\"dataframe\">\n",
       "  <thead>\n",
       "    <tr style=\"text-align: right;\">\n",
       "      <th></th>\n",
       "      <th>OPERATING_AIRLINE_CD</th>\n",
       "      <th>OPERATING_FLT_NO</th>\n",
       "      <th>GMT_UPLIFT_DT</th>\n",
       "      <th>UPLIFT_STN_CD</th>\n",
       "      <th>DISCHARGE_STN_CD</th>\n",
       "      <th>BOOKED_CABIN_CD</th>\n",
       "      <th>TRAVEL_CABIN_CD</th>\n",
       "      <th>BA_PAX_TIER</th>\n",
       "      <th>ONEWORLD_TIER</th>\n",
       "      <th>Lounge_eligibility_tier</th>\n",
       "      <th>pax</th>\n",
       "    </tr>\n",
       "  </thead>\n",
       "  <tbody>\n",
       "    <tr>\n",
       "      <th>0</th>\n",
       "      <td>BA</td>\n",
       "      <td>57</td>\n",
       "      <td>2019-06-18</td>\n",
       "      <td>LHR</td>\n",
       "      <td>JNB</td>\n",
       "      <td>J</td>\n",
       "      <td>J</td>\n",
       "      <td></td>\n",
       "      <td>EMER</td>\n",
       "      <td>Tier 2</td>\n",
       "      <td>1</td>\n",
       "    </tr>\n",
       "    <tr>\n",
       "      <th>1</th>\n",
       "      <td>BA</td>\n",
       "      <td>247</td>\n",
       "      <td>2019-06-29</td>\n",
       "      <td>LHR</td>\n",
       "      <td>GRU</td>\n",
       "      <td>J</td>\n",
       "      <td>J</td>\n",
       "      <td>Gold</td>\n",
       "      <td>EMER</td>\n",
       "      <td>Tier 2</td>\n",
       "      <td>1</td>\n",
       "    </tr>\n",
       "  </tbody>\n",
       "</table>\n",
       "</div>"
      ],
      "text/plain": [
       "  OPERATING_AIRLINE_CD  OPERATING_FLT_NO GMT_UPLIFT_DT UPLIFT_STN_CD  \\\n",
       "0               BA                    57    -06-18        LHR      \n",
       "1               BA                   247    -06-29        LHR      \n",
       "\n",
       "  DISCHARGE_STN_CD BOOKED_CABIN_CD TRAVEL_CABIN_CD BA_PAX_TIER ONEWORLD_TIER  \\\n",
       "0           JNB                 J               J                       EMER   \n",
       "1           GRU                 J               J         Gold          EMER   \n",
       "\n",
       "  Lounge_eligibility_tier  pax  \n",
       "0                  Tier 2    1  \n",
       "1                  Tier 2    1  "
      ]
     },
     "execution_count": 9,
     "metadata": {},
     "output_type": "execute_result"
    }
   ],
   "source": [
    "df_lounge_eligibility.head(2)"
   ]
  },
  {
   "cell_type": "code",
   "execution_count": 10,
   "metadata": {},
   "outputs": [
    {
     "data": {
      "text/plain": [
       "(973878, 11)"
      ]
     },
     "execution_count": 10,
     "metadata": {},
     "output_type": "execute_result"
    }
   ],
   "source": [
    "df_lounge_eligibility.shape"
   ]
  },
  {
   "cell_type": "code",
   "execution_count": 11,
   "metadata": {},
   "outputs": [
    {
     "data": {
      "text/html": [
       "<div>\n",
       "<style scoped>\n",
       "    .dataframe tbody tr th:only-of-type {\n",
       "        vertical-align: middle;\n",
       "    }\n",
       "\n",
       "    .dataframe tbody tr th {\n",
       "        vertical-align: top;\n",
       "    }\n",
       "\n",
       "    .dataframe thead th {\n",
       "        text-align: right;\n",
       "    }\n",
       "</style>\n",
       "<table border=\"1\" class=\"dataframe\">\n",
       "  <thead>\n",
       "    <tr style=\"text-align: right;\">\n",
       "      <th></th>\n",
       "      <th>OPERATING_AIRLINE_CD</th>\n",
       "      <th>OPERATING_FLT_NO</th>\n",
       "      <th>GMT_UPLIFT_DT</th>\n",
       "      <th>UPLIFT_STN_CD</th>\n",
       "      <th>DISCHARGE_STN_CD</th>\n",
       "      <th>BOOKED_CABIN_CD</th>\n",
       "      <th>TRAVEL_CABIN_CD</th>\n",
       "      <th>BA_PAX_TIER</th>\n",
       "      <th>ONEWORLD_TIER</th>\n",
       "      <th>Lounge_eligibility_tier</th>\n",
       "      <th>pax</th>\n",
       "    </tr>\n",
       "  </thead>\n",
       "  <tbody>\n",
       "    <tr>\n",
       "      <th>7140</th>\n",
       "      <td>BA</td>\n",
       "      <td>253</td>\n",
       "      <td>-09-12</td>\n",
       "      <td>LHR</td>\n",
       "      <td>GCM</td>\n",
       "      <td>J</td>\n",
       "      <td>J</td>\n",
       "      <td>Gold</td>\n",
       "      <td>EMER</td>\n",
       "      <td>Tier 2</td>\n",
       "      <td>2</td>\n",
       "    </tr>\n",
       "    <tr>\n",
       "      <th>7716</th>\n",
       "      <td>BA</td>\n",
       "      <td>253</td>\n",
       "      <td>-09-12</td>\n",
       "      <td>LHR</td>\n",
       "      <td>GCM</td>\n",
       "      <td>M</td>\n",
       "      <td>M</td>\n",
       "      <td>Silver</td>\n",
       "      <td>SAPP</td>\n",
       "      <td>Tier 3</td>\n",
       "      <td>2</td>\n",
       "    </tr>\n",
       "    <tr>\n",
       "      <th>8868</th>\n",
       "      <td>BA</td>\n",
       "      <td>253</td>\n",
       "      <td>-09-12</td>\n",
       "      <td>LHR</td>\n",
       "      <td>GCM</td>\n",
       "      <td>W</td>\n",
       "      <td>W</td>\n",
       "      <td></td>\n",
       "      <td></td>\n",
       "      <td>Not eligible</td>\n",
       "      <td>20</td>\n",
       "    </tr>\n",
       "    <tr>\n",
       "      <th>9444</th>\n",
       "      <td>BA</td>\n",
       "      <td>253</td>\n",
       "      <td>-09-12</td>\n",
       "      <td>LHR</td>\n",
       "      <td>GCM</td>\n",
       "      <td>J</td>\n",
       "      <td>J</td>\n",
       "      <td></td>\n",
       "      <td></td>\n",
       "      <td>Tier 3</td>\n",
       "      <td>10</td>\n",
       "    </tr>\n",
       "    <tr>\n",
       "      <th>11748</th>\n",
       "      <td>BA</td>\n",
       "      <td>253</td>\n",
       "      <td>-09-12</td>\n",
       "      <td>LHR</td>\n",
       "      <td>GCM</td>\n",
       "      <td>J</td>\n",
       "      <td>J</td>\n",
       "      <td>Gold</td>\n",
       "      <td></td>\n",
       "      <td>Tier 2</td>\n",
       "      <td>2</td>\n",
       "    </tr>\n",
       "    <tr>\n",
       "      <th>12900</th>\n",
       "      <td>BA</td>\n",
       "      <td>253</td>\n",
       "      <td>-09-12</td>\n",
       "      <td>LHR</td>\n",
       "      <td>GCM</td>\n",
       "      <td>M</td>\n",
       "      <td>M</td>\n",
       "      <td></td>\n",
       "      <td></td>\n",
       "      <td>Not eligible</td>\n",
       "      <td>170</td>\n",
       "    </tr>\n",
       "    <tr>\n",
       "      <th>15204</th>\n",
       "      <td>BA</td>\n",
       "      <td>253</td>\n",
       "      <td>-09-12</td>\n",
       "      <td>LHR</td>\n",
       "      <td>GCM</td>\n",
       "      <td>J</td>\n",
       "      <td>J</td>\n",
       "      <td></td>\n",
       "      <td>EMER</td>\n",
       "      <td>Tier 2</td>\n",
       "      <td>1</td>\n",
       "    </tr>\n",
       "    <tr>\n",
       "      <th>16356</th>\n",
       "      <td>BA</td>\n",
       "      <td>253</td>\n",
       "      <td>-09-12</td>\n",
       "      <td>LHR</td>\n",
       "      <td>GCM</td>\n",
       "      <td>J</td>\n",
       "      <td>J</td>\n",
       "      <td>Silver</td>\n",
       "      <td>SAPP</td>\n",
       "      <td>Tier 3</td>\n",
       "      <td>4</td>\n",
       "    </tr>\n",
       "  </tbody>\n",
       "</table>\n",
       "</div>"
      ],
      "text/plain": [
       "      OPERATING_AIRLINE_CD  OPERATING_FLT_NO GMT_UPLIFT_DT UPLIFT_STN_CD  \\\n",
       "7140                BA                   253    -09-12        LHR      \n",
       "7716                BA                   253    -09-12        LHR      \n",
       "8868                BA                   253    -09-12        LHR      \n",
       "9444                BA                   253    -09-12        LHR      \n",
       "11748               BA                   253    -09-12        LHR      \n",
       "12900               BA                   253    -09-12        LHR      \n",
       "15204               BA                   253    -09-12        LHR      \n",
       "16356               BA                   253    -09-12        LHR      \n",
       "\n",
       "      DISCHARGE_STN_CD BOOKED_CABIN_CD TRAVEL_CABIN_CD BA_PAX_TIER  \\\n",
       "7140            GCM                 J               J         Gold   \n",
       "7716            GCM                 M               M       Silver   \n",
       "8868            GCM                 W               W                \n",
       "9444            GCM                 J               J                \n",
       "11748           GCM                 J               J         Gold   \n",
       "12900           GCM                 M               M                \n",
       "15204           GCM                 J               J                \n",
       "16356           GCM                 J               J       Silver   \n",
       "\n",
       "      ONEWORLD_TIER Lounge_eligibility_tier  pax  \n",
       "7140           EMER                  Tier 2    2  \n",
       "7716           SAPP                  Tier 3    2  \n",
       "8868                           Not eligible   20  \n",
       "9444                                 Tier 3   10  \n",
       "11748                                Tier 2    2  \n",
       "12900                          Not eligible  170  \n",
       "15204          EMER                  Tier 2    1  \n",
       "16356          SAPP                  Tier 3    4  "
      ]
     },
     "execution_count": 11,
     "metadata": {},
     "output_type": "execute_result"
    }
   ],
   "source": [
    "# a look to a particular flight number and date\n",
    "\n",
    "mask = (df_lounge_eligibility['DISCHARGE_STN_CD'] == 'GCM   ') & (df_lounge_eligibility['GMT_UPLIFT_DT'] == dt.date(,9,12) )\n",
    "\n",
    "df_lounge_eligibility[mask]"
   ]
  },
  {
   "cell_type": "markdown",
   "metadata": {},
   "source": [
    "#### S19 Flight info"
   ]
  },
  {
   "cell_type": "code",
   "execution_count": 12,
   "metadata": {},
   "outputs": [],
   "source": [
    "query = \"\"\"\n",
    "\n",
    "select * from LDB_SBOX_OR.HACKATHON_OPS_FLIGHT_INFO\n",
    "\n",
    "\"\"\"\n",
    "\n",
    "df_flight_info = icw.queryToDataframe(query)"
   ]
  },
  {
   "cell_type": "code",
   "execution_count": 13,
   "metadata": {},
   "outputs": [
    {
     "data": {
      "text/html": [
       "<div>\n",
       "<style scoped>\n",
       "    .dataframe tbody tr th:only-of-type {\n",
       "        vertical-align: middle;\n",
       "    }\n",
       "\n",
       "    .dataframe tbody tr th {\n",
       "        vertical-align: top;\n",
       "    }\n",
       "\n",
       "    .dataframe thead th {\n",
       "        text-align: right;\n",
       "    }\n",
       "</style>\n",
       "<table border=\"1\" class=\"dataframe\">\n",
       "  <thead>\n",
       "    <tr style=\"text-align: right;\">\n",
       "      <th></th>\n",
       "      <th>OPG_ALN_CD</th>\n",
       "      <th>OPG_FLT_NO</th>\n",
       "      <th>GMT_PLND_DEP_TS</th>\n",
       "      <th>GMT_ACT_DEP_TS</th>\n",
       "      <th>ACT_DEP_STN_CD</th>\n",
       "      <th>ACT_DEP_TML_CD</th>\n",
       "      <th>PLND_ARR_STN_CD</th>\n",
       "      <th>ACT_ARR_STN_CD</th>\n",
       "      <th>IATA_AC_TYP_CD</th>\n",
       "      <th>ACT_AC_TYP_CD</th>\n",
       "      <th>ROUTE</th>\n",
       "      <th>COUNTRY_CD</th>\n",
       "      <th>COUNTRY_NM</th>\n",
       "      <th>CORP_GEOG_CTRY_GRP_NM</th>\n",
       "      <th>CORP_GEOG_CONTINENT_NM</th>\n",
       "    </tr>\n",
       "  </thead>\n",
       "  <tbody>\n",
       "    <tr>\n",
       "      <th>0</th>\n",
       "      <td>BA</td>\n",
       "      <td>548</td>\n",
       "      <td>-06-03 07:30:00</td>\n",
       "      <td>2019-06-03 07:27:00</td>\n",
       "      <td>LHR</td>\n",
       "      <td>5</td>\n",
       "      <td>FCO</td>\n",
       "      <td>FCO</td>\n",
       "      <td>321</td>\n",
       "      <td>V6</td>\n",
       "      <td>LHRFCO</td>\n",
       "      <td>IT</td>\n",
       "      <td>Italy</td>\n",
       "      <td>MEDITERRANEAN</td>\n",
       "      <td>EUROPE EXC UK</td>\n",
       "    </tr>\n",
       "    <tr>\n",
       "      <th>1</th>\n",
       "      <td>BA</td>\n",
       "      <td>490</td>\n",
       "      <td>2019-06-12 10:35:00</td>\n",
       "      <td>2019-06-12 10:31:00</td>\n",
       "      <td>LHR</td>\n",
       "      <td>3</td>\n",
       "      <td>GIB</td>\n",
       "      <td>GIB</td>\n",
       "      <td>320</td>\n",
       "      <td>A3</td>\n",
       "      <td>LHRGIB</td>\n",
       "      <td>GI</td>\n",
       "      <td>Gibraltar</td>\n",
       "      <td>MEDITERRANEAN</td>\n",
       "      <td>EUROPE EXC UK</td>\n",
       "    </tr>\n",
       "  </tbody>\n",
       "</table>\n",
       "</div>"
      ],
      "text/plain": [
       "  OPG_ALN_CD  OPG_FLT_NO     GMT_PLND_DEP_TS      GMT_ACT_DEP_TS  \\\n",
       "0     BA             548 2019-06-03 07:30:00 2019-06-03 07:27:00   \n",
       "1     BA             490 2019-06-12 10:35:00 2019-06-12 10:31:00   \n",
       "\n",
       "  ACT_DEP_STN_CD ACT_DEP_TML_CD PLND_ARR_STN_CD ACT_ARR_STN_CD IATA_AC_TYP_CD  \\\n",
       "0         LHR                5           FCO            FCO            321      \n",
       "1         LHR                3           GIB            GIB            320      \n",
       "\n",
       "  ACT_AC_TYP_CD         ROUTE COUNTRY_CD COUNTRY_NM CORP_GEOG_CTRY_GRP_NM  \\\n",
       "0          V6    LHRFCO           IT          Italy         MEDITERRANEAN   \n",
       "1          A3    LHRGIB           GI      Gibraltar         MEDITERRANEAN   \n",
       "\n",
       "  CORP_GEOG_CONTINENT_NM  \n",
       "0          EUROPE EXC UK  \n",
       "1          EUROPE EXC UK  "
      ]
     },
     "execution_count": 13,
     "metadata": {},
     "output_type": "execute_result"
    }
   ],
   "source": [
    "df_flight_info.head(2)"
   ]
  },
  {
   "cell_type": "markdown",
   "metadata": {},
   "source": [
    "#### Station Code Decode"
   ]
  },
  {
   "cell_type": "code",
   "execution_count": 14,
   "metadata": {},
   "outputs": [],
   "source": [
    "query = \"\"\"\n",
    "\n",
    "select * from LDB_SBOX_OR.HACKATHON_OPS_COUNTRY_DECODE\n",
    "\n",
    "\"\"\"\n",
    "\n",
    "df_country = icw.queryToDataframe(query)"
   ]
  },
  {
   "cell_type": "code",
   "execution_count": 15,
   "metadata": {},
   "outputs": [
    {
     "data": {
      "text/html": [
       "<div>\n",
       "<style scoped>\n",
       "    .dataframe tbody tr th:only-of-type {\n",
       "        vertical-align: middle;\n",
       "    }\n",
       "\n",
       "    .dataframe tbody tr th {\n",
       "        vertical-align: top;\n",
       "    }\n",
       "\n",
       "    .dataframe thead th {\n",
       "        text-align: right;\n",
       "    }\n",
       "</style>\n",
       "<table border=\"1\" class=\"dataframe\">\n",
       "  <thead>\n",
       "    <tr style=\"text-align: right;\">\n",
       "      <th></th>\n",
       "      <th>ROUTE</th>\n",
       "      <th>COUNTRY_CD</th>\n",
       "      <th>COUNTRY_NM</th>\n",
       "      <th>CORP_GEOG_CTRY_GRP_NM</th>\n",
       "      <th>CORP_GEOG_CONTINENT_NM</th>\n",
       "    </tr>\n",
       "  </thead>\n",
       "  <tbody>\n",
       "    <tr>\n",
       "      <th>0</th>\n",
       "      <td>LHRINV</td>\n",
       "      <td>GB</td>\n",
       "      <td>United Kingdom and Northern Ireland</td>\n",
       "      <td>UK</td>\n",
       "      <td>UK</td>\n",
       "    </tr>\n",
       "    <tr>\n",
       "      <th>1</th>\n",
       "      <td>LHRSVO</td>\n",
       "      <td>RU</td>\n",
       "      <td>Russia in Europe</td>\n",
       "      <td>EASTERN EUROPE</td>\n",
       "      <td>EUROPE EXC UK</td>\n",
       "    </tr>\n",
       "  </tbody>\n",
       "</table>\n",
       "</div>"
      ],
      "text/plain": [
       "    ROUTE COUNTRY_CD                           COUNTRY_NM  \\\n",
       "0  LHRINV        GB   United Kingdom and Northern Ireland   \n",
       "1  LHRSVO        RU                      Russia in Europe   \n",
       "\n",
       "  CORP_GEOG_CTRY_GRP_NM CORP_GEOG_CONTINENT_NM  \n",
       "0                    UK                     UK  \n",
       "1        EASTERN EUROPE          EUROPE EXC UK  "
      ]
     },
     "execution_count": 15,
     "metadata": {},
     "output_type": "execute_result"
    }
   ],
   "source": [
    "df_country.head(2)"
   ]
  },
  {
   "cell_type": "markdown",
   "metadata": {},
   "source": [
    "#### Aircraft Type"
   ]
  },
  {
   "cell_type": "code",
   "execution_count": 16,
   "metadata": {},
   "outputs": [],
   "source": [
    "query = \"\"\"\n",
    "\n",
    "select * from LDB_SBOX_OR.HACKATHON_OPS_AC_TYPE\n",
    "\n",
    "\"\"\"\n",
    "\n",
    "df_acft_typ = icw.queryToDataframe(query)"
   ]
  },
  {
   "cell_type": "code",
   "execution_count": 17,
   "metadata": {},
   "outputs": [
    {
     "data": {
      "text/html": [
       "<div>\n",
       "<style scoped>\n",
       "    .dataframe tbody tr th:only-of-type {\n",
       "        vertical-align: middle;\n",
       "    }\n",
       "\n",
       "    .dataframe tbody tr th {\n",
       "        vertical-align: top;\n",
       "    }\n",
       "\n",
       "    .dataframe thead th {\n",
       "        text-align: right;\n",
       "    }\n",
       "</style>\n",
       "<table border=\"1\" class=\"dataframe\">\n",
       "  <thead>\n",
       "    <tr style=\"text-align: right;\">\n",
       "      <th></th>\n",
       "      <th>IATA_AC_TYP_CD</th>\n",
       "      <th>ACT_AC_TYP_CD</th>\n",
       "      <th>WB_NB_CAT</th>\n",
       "      <th>FIRST_SEATS_QTY</th>\n",
       "      <th>CLUB_SEATS_QTY</th>\n",
       "      <th>PREM_ECONOMY_SEATS_QTY</th>\n",
       "      <th>ECONOMY_SEATS_QTY</th>\n",
       "    </tr>\n",
       "  </thead>\n",
       "  <tbody>\n",
       "    <tr>\n",
       "      <th>0</th>\n",
       "      <td>320</td>\n",
       "      <td>A3</td>\n",
       "      <td>NB</td>\n",
       "      <td>0</td>\n",
       "      <td>24</td>\n",
       "      <td>0</td>\n",
       "      <td>132</td>\n",
       "    </tr>\n",
       "    <tr>\n",
       "      <th>1</th>\n",
       "      <td>777</td>\n",
       "      <td>K7</td>\n",
       "      <td>WB</td>\n",
       "      <td>0</td>\n",
       "      <td>48</td>\n",
       "      <td>24</td>\n",
       "      <td>203</td>\n",
       "    </tr>\n",
       "  </tbody>\n",
       "</table>\n",
       "</div>"
      ],
      "text/plain": [
       "  IATA_AC_TYP_CD ACT_AC_TYP_CD WB_NB_CAT  FIRST_SEATS_QTY  CLUB_SEATS_QTY  \\\n",
       "0            320            A3        NB                0              24   \n",
       "1            777            K7        WB                0              48   \n",
       "\n",
       "   PREM_ECONOMY_SEATS_QTY  ECONOMY_SEATS_QTY  \n",
       "0                       0                132  \n",
       "1                      24                203  "
      ]
     },
     "execution_count": 17,
     "metadata": {},
     "output_type": "execute_result"
    }
   ],
   "source": [
    "df_acft_typ.head(2)"
   ]
  },
  {
   "cell_type": "code",
   "execution_count": 18,
   "metadata": {},
   "outputs": [
    {
     "data": {
      "text/plain": [
       "(20, 7)"
      ]
     },
     "execution_count": 18,
     "metadata": {},
     "output_type": "execute_result"
    }
   ],
   "source": [
    "df_acft_typ.shape"
   ]
  },
  {
   "cell_type": "code",
   "execution_count": 19,
   "metadata": {},
   "outputs": [
    {
     "data": {
      "text/html": [
       "<div>\n",
       "<style scoped>\n",
       "    .dataframe tbody tr th:only-of-type {\n",
       "        vertical-align: middle;\n",
       "    }\n",
       "\n",
       "    .dataframe tbody tr th {\n",
       "        vertical-align: top;\n",
       "    }\n",
       "\n",
       "    .dataframe thead th {\n",
       "        text-align: right;\n",
       "    }\n",
       "</style>\n",
       "<table border=\"1\" class=\"dataframe\">\n",
       "  <thead>\n",
       "    <tr style=\"text-align: right;\">\n",
       "      <th></th>\n",
       "      <th>IATA_AC_TYP_CD</th>\n",
       "      <th>ACT_AC_TYP_CD</th>\n",
       "      <th>WB_NB_CAT</th>\n",
       "      <th>FIRST_SEATS_QTY</th>\n",
       "      <th>CLUB_SEATS_QTY</th>\n",
       "      <th>PREM_ECONOMY_SEATS_QTY</th>\n",
       "      <th>ECONOMY_SEATS_QTY</th>\n",
       "    </tr>\n",
       "  </thead>\n",
       "  <tbody>\n",
       "    <tr>\n",
       "      <th>0</th>\n",
       "      <td>320</td>\n",
       "      <td>A3</td>\n",
       "      <td>NB</td>\n",
       "      <td>0</td>\n",
       "      <td>24</td>\n",
       "      <td>0</td>\n",
       "      <td>132</td>\n",
       "    </tr>\n",
       "    <tr>\n",
       "      <th>1</th>\n",
       "      <td>777</td>\n",
       "      <td>K7</td>\n",
       "      <td>WB</td>\n",
       "      <td>0</td>\n",
       "      <td>48</td>\n",
       "      <td>24</td>\n",
       "      <td>203</td>\n",
       "    </tr>\n",
       "    <tr>\n",
       "      <th>2</th>\n",
       "      <td>32N</td>\n",
       "      <td>N3</td>\n",
       "      <td>NB</td>\n",
       "      <td>0</td>\n",
       "      <td>20</td>\n",
       "      <td>0</td>\n",
       "      <td>150</td>\n",
       "    </tr>\n",
       "    <tr>\n",
       "      <th>3</th>\n",
       "      <td>321</td>\n",
       "      <td>M6</td>\n",
       "      <td>NB</td>\n",
       "      <td>0</td>\n",
       "      <td>23</td>\n",
       "      <td>0</td>\n",
       "      <td>131</td>\n",
       "    </tr>\n",
       "    <tr>\n",
       "      <th>4</th>\n",
       "      <td>32Q</td>\n",
       "      <td>N6</td>\n",
       "      <td>NB</td>\n",
       "      <td>0</td>\n",
       "      <td>32</td>\n",
       "      <td>0</td>\n",
       "      <td>172</td>\n",
       "    </tr>\n",
       "    <tr>\n",
       "      <th>5</th>\n",
       "      <td>789</td>\n",
       "      <td>L8</td>\n",
       "      <td>WB</td>\n",
       "      <td>8</td>\n",
       "      <td>42</td>\n",
       "      <td>39</td>\n",
       "      <td>127</td>\n",
       "    </tr>\n",
       "    <tr>\n",
       "      <th>6</th>\n",
       "      <td>32A</td>\n",
       "      <td>H3</td>\n",
       "      <td>NB</td>\n",
       "      <td>0</td>\n",
       "      <td>20</td>\n",
       "      <td>0</td>\n",
       "      <td>150</td>\n",
       "    </tr>\n",
       "    <tr>\n",
       "      <th>7</th>\n",
       "      <td>319</td>\n",
       "      <td>A4</td>\n",
       "      <td>NB</td>\n",
       "      <td>0</td>\n",
       "      <td>16</td>\n",
       "      <td>0</td>\n",
       "      <td>119</td>\n",
       "    </tr>\n",
       "    <tr>\n",
       "      <th>8</th>\n",
       "      <td>788</td>\n",
       "      <td>B8</td>\n",
       "      <td>WB</td>\n",
       "      <td>0</td>\n",
       "      <td>35</td>\n",
       "      <td>25</td>\n",
       "      <td>154</td>\n",
       "    </tr>\n",
       "    <tr>\n",
       "      <th>9</th>\n",
       "      <td>77W</td>\n",
       "      <td>G7</td>\n",
       "      <td>WB</td>\n",
       "      <td>14</td>\n",
       "      <td>56</td>\n",
       "      <td>44</td>\n",
       "      <td>183</td>\n",
       "    </tr>\n",
       "    <tr>\n",
       "      <th>10</th>\n",
       "      <td>744</td>\n",
       "      <td>S4</td>\n",
       "      <td>WB</td>\n",
       "      <td>14</td>\n",
       "      <td>86</td>\n",
       "      <td>30</td>\n",
       "      <td>145</td>\n",
       "    </tr>\n",
       "    <tr>\n",
       "      <th>11</th>\n",
       "      <td>343</td>\n",
       "      <td>W9</td>\n",
       "      <td>WB</td>\n",
       "      <td>0</td>\n",
       "      <td>45</td>\n",
       "      <td>0</td>\n",
       "      <td>212</td>\n",
       "    </tr>\n",
       "    <tr>\n",
       "      <th>12</th>\n",
       "      <td>388</td>\n",
       "      <td>A8</td>\n",
       "      <td>WB</td>\n",
       "      <td>14</td>\n",
       "      <td>97</td>\n",
       "      <td>55</td>\n",
       "      <td>303</td>\n",
       "    </tr>\n",
       "    <tr>\n",
       "      <th>13</th>\n",
       "      <td>777</td>\n",
       "      <td>L7</td>\n",
       "      <td>WB</td>\n",
       "      <td>0</td>\n",
       "      <td>48</td>\n",
       "      <td>24</td>\n",
       "      <td>203</td>\n",
       "    </tr>\n",
       "    <tr>\n",
       "      <th>14</th>\n",
       "      <td>321</td>\n",
       "      <td>V6</td>\n",
       "      <td>NB</td>\n",
       "      <td>0</td>\n",
       "      <td>38</td>\n",
       "      <td>0</td>\n",
       "      <td>160</td>\n",
       "    </tr>\n",
       "    <tr>\n",
       "      <th>15</th>\n",
       "      <td>744</td>\n",
       "      <td>V4</td>\n",
       "      <td>WB</td>\n",
       "      <td>14</td>\n",
       "      <td>52</td>\n",
       "      <td>36</td>\n",
       "      <td>235</td>\n",
       "    </tr>\n",
       "    <tr>\n",
       "      <th>16</th>\n",
       "      <td>777</td>\n",
       "      <td>P7</td>\n",
       "      <td>WB</td>\n",
       "      <td>17</td>\n",
       "      <td>48</td>\n",
       "      <td>24</td>\n",
       "      <td>127</td>\n",
       "    </tr>\n",
       "    <tr>\n",
       "      <th>17</th>\n",
       "      <td>321</td>\n",
       "      <td>W6</td>\n",
       "      <td>NB</td>\n",
       "      <td>0</td>\n",
       "      <td>42</td>\n",
       "      <td>0</td>\n",
       "      <td>154</td>\n",
       "    </tr>\n",
       "    <tr>\n",
       "      <th>18</th>\n",
       "      <td>777</td>\n",
       "      <td>V7</td>\n",
       "      <td>WB</td>\n",
       "      <td>14</td>\n",
       "      <td>48</td>\n",
       "      <td>40</td>\n",
       "      <td>124</td>\n",
       "    </tr>\n",
       "    <tr>\n",
       "      <th>19</th>\n",
       "      <td>777</td>\n",
       "      <td>W7</td>\n",
       "      <td>WB</td>\n",
       "      <td>12</td>\n",
       "      <td>48</td>\n",
       "      <td>32</td>\n",
       "      <td>127</td>\n",
       "    </tr>\n",
       "  </tbody>\n",
       "</table>\n",
       "</div>"
      ],
      "text/plain": [
       "   IATA_AC_TYP_CD ACT_AC_TYP_CD WB_NB_CAT  FIRST_SEATS_QTY  CLUB_SEATS_QTY  \\\n",
       "0             320            A3        NB                0              24   \n",
       "1             777            K7        WB                0              48   \n",
       "2             32N            N3        NB                0              20   \n",
       "3             321            M6        NB                0              23   \n",
       "4             32Q            N6        NB                0              32   \n",
       "5             789            L8        WB                8              42   \n",
       "6             32A            H3        NB                0              20   \n",
       "7             319            A4        NB                0              16   \n",
       "8             788            B8        WB                0              35   \n",
       "9             77W            G7        WB               14              56   \n",
       "10            744            S4        WB               14              86   \n",
       "11            343            W9        WB                0              45   \n",
       "12            388            A8        WB               14              97   \n",
       "13            777            L7        WB                0              48   \n",
       "14            321            V6        NB                0              38   \n",
       "15            744            V4        WB               14              52   \n",
       "16            777            P7        WB               17              48   \n",
       "17            321            W6        NB                0              42   \n",
       "18            777            V7        WB               14              48   \n",
       "19            777            W7        WB               12              48   \n",
       "\n",
       "    PREM_ECONOMY_SEATS_QTY  ECONOMY_SEATS_QTY  \n",
       "0                        0                132  \n",
       "1                       24                203  \n",
       "2                        0                150  \n",
       "3                        0                131  \n",
       "4                        0                172  \n",
       "5                       39                127  \n",
       "6                        0                150  \n",
       "7                        0                119  \n",
       "8                       25                154  \n",
       "9                       44                183  \n",
       "10                      30                145  \n",
       "11                       0                212  \n",
       "12                      55                303  \n",
       "13                      24                203  \n",
       "14                       0                160  \n",
       "15                      36                235  \n",
       "16                      24                127  \n",
       "17                       0                154  \n",
       "18                      40                124  \n",
       "19                      32                127  "
      ]
     },
     "execution_count": 19,
     "metadata": {},
     "output_type": "execute_result"
    }
   ],
   "source": [
    "df_acft_typ"
   ]
  },
  {
   "cell_type": "markdown",
   "metadata": {},
   "source": [
    "<br>\n",
    "\n",
    "### Pre-processing"
   ]
  },
  {
   "cell_type": "markdown",
   "metadata": {},
   "source": [
    "*Hint:* It is always worth checking the format of each of the columns in your dataframes before trying to do any work with them. To do so, you can make use of the `headers_and_first_row` function below.\n"
   ]
  },
  {
   "cell_type": "code",
   "execution_count": 20,
   "metadata": {},
   "outputs": [],
   "source": [
    "def headers_and_first_row(df):\n",
    "    '''\n",
    "    print headers and first row of a df to deal with data types\n",
    "    '''\n",
    "    \n",
    "    headers = df.columns\n",
    "    first_row = []\n",
    "\n",
    "    for col in headers:\n",
    "        first_row.append(df[col][0])\n",
    "    \n",
    "    dictionary = dict( zip( headers, first_row) )\n",
    "\n",
    "    return dictionary"
   ]
  },
  {
   "cell_type": "code",
   "execution_count": 21,
   "metadata": {},
   "outputs": [],
   "source": [
    "# applying headers_and_first_row to df_lounge_eligibility\n",
    "format_df = headers_and_first_row(df_lounge_eligibility)"
   ]
  },
  {
   "cell_type": "code",
   "execution_count": 22,
   "metadata": {},
   "outputs": [
    {
     "data": {
      "text/plain": [
       "{'OPERATING_AIRLINE_CD': 'BA    ',\n",
       " 'OPERATING_FLT_NO': 57,\n",
       " 'GMT_UPLIFT_DT': datetime.date(2019, 6, 18),\n",
       " 'UPLIFT_STN_CD': 'LHR   ',\n",
       " 'DISCHARGE_STN_CD': 'JNB   ',\n",
       " 'BOOKED_CABIN_CD': 'J ',\n",
       " 'TRAVEL_CABIN_CD': 'J ',\n",
       " 'BA_PAX_TIER': '',\n",
       " 'ONEWORLD_TIER': 'EMER',\n",
       " 'Lounge_eligibility_tier': 'Tier 2',\n",
       " 'pax': 1}"
      ]
     },
     "execution_count": 22,
     "metadata": {},
     "output_type": "execute_result"
    }
   ],
   "source": [
    "# Note that some columns have blank spaces!\n",
    "format_df"
   ]
  },
  {
   "cell_type": "markdown",
   "metadata": {},
   "source": [
    "<br>\n",
    "<div class=\"alert alert-\" style = \"border-radius:10px;border-width:3px;border-color:lightblue;font-family:Verdana,sans-serif;font-size:16px;\">\n",
    "\n",
    "<font size=\"3\">**Exercise 1:** Pre-process **all** the tables above (df_lounge_eligibility, df_flight_info, df_country, df_acft_typ).\n",
    "\n",
    "</font>\n",
    "\n",
    "</ol>\n",
    "</div>"
   ]
  },
  {
   "cell_type": "code",
   "execution_count": 23,
   "metadata": {},
   "outputs": [],
   "source": [
    "# Example: strip method works well to remove blank spaces\n",
    "df_lounge_eligibility['OPERATING_AIRLINE_CD'] = df_lounge_eligibility['OPERATING_AIRLINE_CD'].str.strip()"
   ]
  },
  {
   "cell_type": "code",
   "execution_count": 24,
   "metadata": {},
   "outputs": [
    {
     "data": {
      "text/plain": [
       "{'OPERATING_AIRLINE_CD': 'BA',\n",
       " 'OPERATING_FLT_NO': 57,\n",
       " 'GMT_UPLIFT_DT': datetime.date(2019, 6, 18),\n",
       " 'UPLIFT_STN_CD': 'LHR   ',\n",
       " 'DISCHARGE_STN_CD': 'JNB   ',\n",
       " 'BOOKED_CABIN_CD': 'J ',\n",
       " 'TRAVEL_CABIN_CD': 'J ',\n",
       " 'BA_PAX_TIER': '',\n",
       " 'ONEWORLD_TIER': 'EMER',\n",
       " 'Lounge_eligibility_tier': 'Tier 2',\n",
       " 'pax': 1}"
      ]
     },
     "execution_count": 24,
     "metadata": {},
     "output_type": "execute_result"
    }
   ],
   "source": [
    "# applying headers_and_first_row to df_lounge_eligibility\n",
    "format_df = headers_and_first_row(df_lounge_eligibility)\n",
    "\n",
    "# print the dictionary format_df. Note how the OPERATING_AIRLINE_CD column now appear without white spaces\n",
    "format_df"
   ]
  },
  {
   "cell_type": "markdown",
   "metadata": {},
   "source": [
    "<br><br>"
   ]
  },
  {
   "cell_type": "code",
   "execution_count": 25,
   "metadata": {},
   "outputs": [],
   "source": [
    "# your code here!"
   ]
  },
  {
   "cell_type": "markdown",
   "metadata": {},
   "source": [
    "<br>\n",
    "<div class=\"alert alert-\" style = \"border-radius:10px;border-width:3px;border-color:lightblue;font-family:Verdana,sans-serif;font-size:16px;\">\n",
    "\n",
    "<font size=\"3\">**Exercise 2:** Join the tables below\n",
    "   \n",
    "    - df_flight_info\n",
    "    - df_country\n",
    "    - df_acft_typ\n",
    "    \n",
    "to the table df_lounge_eligibility to generate a final dataset.\n",
    "\n",
    "</font>\n",
    "\n",
    "</ol>\n",
    "</div>"
   ]
  },
  {
   "cell_type": "code",
   "execution_count": null,
   "metadata": {},
   "outputs": [],
   "source": [
    "# Example\n",
    "\n",
    "# joining df_lounge_eligibility and df_flight_info\n",
    "\n",
    "df_lounge_elig_flight_info = pd.merge(df_lounge_eligibility,# left table\n",
    "                                     df_flight_info, # right table\n",
    "                                     left_on = , # left on? e.g. which columns from the left table are you joining on to?\n",
    "                                     right_on = , # right on? # left on? e.g. which columns from the right table are you joining on to?\n",
    "                                     how = \"left\" # how? e.g. left, right, inner,etc\n",
    "                                     )"
   ]
  },
  {
   "cell_type": "code",
   "execution_count": 28,
   "metadata": {},
   "outputs": [],
   "source": [
    "# your code here!"
   ]
  },
  {
   "cell_type": "markdown",
   "metadata": {},
   "source": [
    "<br><br>\n",
    "<div class=\"alert alert-\" style = \"border-radius:10px;border-width:3px;border-color:lightblue;font-family:Verdana,sans-serif;font-size:16px;\">\n",
    "\n",
    "<font size=\"3\">Exercise 3: Based on S2019/S2023 data, provide a lookup table of Lounge eligibility assumptions that can be applied to a future schedule. To do so, answer each of the following questions in the Markdown cell provided below. \n",
    "\n",
    "- What level of granularity do you use?\n",
    "- What metric do you use to come up with Lounge eligibility profiles?\n",
    "\n",
    "    \n",
    "Note 1: **Provide evidence for your assumptions.** This can be in the form of tables, graphs, correlation matrix, etc.\n",
    "    \n",
    "Note 2: Make use of the examples below to give structure to your answer. Feel free to attend the Hackathon Clinics if you have any questions. \n",
    "</font>\n",
    "\n",
    "\n",
    "    \n",
    "</ol>\n",
    "</div>"
   ]
  },
  {
   "cell_type": "markdown",
   "metadata": {},
   "source": [
    "**Reasoning (Example 1)**:\n"
   ]
  },
  {
   "cell_type": "markdown",
   "metadata": {},
   "source": [
    "Assume:\n",
    "- Data has been preprocessed.\n",
    "- Data has been joined, and a final dataset has been created. This dataset is the result of joining the 4 tables.\n",
    "\n",
    "The final dataset has been called `df_lounge_elig_flight_info_country_acft_typ`."
   ]
  },
  {
   "cell_type": "markdown",
   "metadata": {},
   "source": [
    "<u>What level of granularity do you use?</u>\n",
    "- I have decided to split all flights in the network based on their aircraft type. I will therefore have a lookup table with two categories: Narrowbody and Widebody. \n",
    "\n",
    "<u>What metric do you use to come up with Lounge eligibility profiles?</u>\n",
    "- I have sumed up all the passengers by Aircraft Type, by Tier. Then I have divided them by the total number of passengers by Aircraft Type. For example:\n",
    "    - For NB aircrafts, and for Tier 1 passengers: In S19 we had 41,728 pax eligible for Tier 1 out of 7,222,830 pax flying on Narrowbody aircraft. This represents 0.6% of the costumers and I assume that this will be the number of costumers elegible for this specific Lounge in a future schedule.   "
   ]
  },
  {
   "cell_type": "code",
   "execution_count": 60,
   "metadata": {},
   "outputs": [],
   "source": [
    "# your code here!"
   ]
  },
  {
   "cell_type": "code",
   "execution_count": 61,
   "metadata": {},
   "outputs": [],
   "source": [
    "# columns that you want to group by\n",
    "list_groupby = ['WB_NB_CAT','Lounge_eligibility_tier']\n",
    "\n",
    "# grouping by WB_NB_CAT and Lounge_eligibility_tier\n",
    "df_groupby_wb_nb = df_lounge_elig_flight_info_country_acft_typ.groupby(list_groupby).agg(\n",
    "                pax_count = ('pax','sum')\n",
    ").reset_index()"
   ]
  },
  {
   "cell_type": "code",
   "execution_count": 62,
   "metadata": {},
   "outputs": [
    {
     "data": {
      "text/html": [
       "<div>\n",
       "<style scoped>\n",
       "    .dataframe tbody tr th:only-of-type {\n",
       "        vertical-align: middle;\n",
       "    }\n",
       "\n",
       "    .dataframe tbody tr th {\n",
       "        vertical-align: top;\n",
       "    }\n",
       "\n",
       "    .dataframe thead th {\n",
       "        text-align: right;\n",
       "    }\n",
       "</style>\n",
       "<table border=\"1\" class=\"dataframe\">\n",
       "  <thead>\n",
       "    <tr style=\"text-align: right;\">\n",
       "      <th></th>\n",
       "      <th>WB_NB_CAT</th>\n",
       "      <th>Lounge_eligibility_tier</th>\n",
       "      <th>pax_count</th>\n",
       "    </tr>\n",
       "  </thead>\n",
       "  <tbody>\n",
       "    <tr>\n",
       "      <th>0</th>\n",
       "      <td>NB</td>\n",
       "      <td>Not eligible</td>\n",
       "      <td>5254338</td>\n",
       "    </tr>\n",
       "    <tr>\n",
       "      <th>1</th>\n",
       "      <td>NB</td>\n",
       "      <td>Tier 1</td>\n",
       "      <td>41728</td>\n",
       "    </tr>\n",
       "    <tr>\n",
       "      <th>2</th>\n",
       "      <td>NB</td>\n",
       "      <td>Tier 2</td>\n",
       "      <td>507654</td>\n",
       "    </tr>\n",
       "    <tr>\n",
       "      <th>3</th>\n",
       "      <td>NB</td>\n",
       "      <td>Tier 3</td>\n",
       "      <td>1419110</td>\n",
       "    </tr>\n",
       "    <tr>\n",
       "      <th>4</th>\n",
       "      <td>WB</td>\n",
       "      <td>Not eligible</td>\n",
       "      <td>3247830</td>\n",
       "    </tr>\n",
       "    <tr>\n",
       "      <th>5</th>\n",
       "      <td>WB</td>\n",
       "      <td>Tier 1</td>\n",
       "      <td>212870</td>\n",
       "    </tr>\n",
       "    <tr>\n",
       "      <th>6</th>\n",
       "      <td>WB</td>\n",
       "      <td>Tier 2</td>\n",
       "      <td>266063</td>\n",
       "    </tr>\n",
       "    <tr>\n",
       "      <th>7</th>\n",
       "      <td>WB</td>\n",
       "      <td>Tier 3</td>\n",
       "      <td>1027270</td>\n",
       "    </tr>\n",
       "  </tbody>\n",
       "</table>\n",
       "</div>"
      ],
      "text/plain": [
       "  WB_NB_CAT Lounge_eligibility_tier  pax_count\n",
       "0        NB            Not eligible    5254338\n",
       "1        NB                  Tier 1      41728\n",
       "2        NB                  Tier 2     507654\n",
       "3        NB                  Tier 3    1419110\n",
       "4        WB            Not eligible    3247830\n",
       "5        WB                  Tier 1     212870\n",
       "6        WB                  Tier 2     266063\n",
       "7        WB                  Tier 3    1027270"
      ]
     },
     "execution_count": 62,
     "metadata": {},
     "output_type": "execute_result"
    }
   ],
   "source": [
    "# a look at the data\n",
    "df_groupby_wb_nb"
   ]
  },
  {
   "cell_type": "code",
   "execution_count": 63,
   "metadata": {},
   "outputs": [],
   "source": [
    "# getting the number of pax by aircraft type\n",
    "\n",
    "# columns that you want to group by\n",
    "list_groupby = ['WB_NB_CAT']\n",
    "\n",
    "# grouping by WB_NB_CAT\n",
    "df_groupby_wb_nb_ttl = df_lounge_elig_flight_info_country_acft_typ.groupby(list_groupby).agg(\n",
    "                pax_count_ttl = ('pax','sum')\n",
    ").reset_index()"
   ]
  },
  {
   "cell_type": "code",
   "execution_count": 64,
   "metadata": {},
   "outputs": [
    {
     "data": {
      "text/html": [
       "<div>\n",
       "<style scoped>\n",
       "    .dataframe tbody tr th:only-of-type {\n",
       "        vertical-align: middle;\n",
       "    }\n",
       "\n",
       "    .dataframe tbody tr th {\n",
       "        vertical-align: top;\n",
       "    }\n",
       "\n",
       "    .dataframe thead th {\n",
       "        text-align: right;\n",
       "    }\n",
       "</style>\n",
       "<table border=\"1\" class=\"dataframe\">\n",
       "  <thead>\n",
       "    <tr style=\"text-align: right;\">\n",
       "      <th></th>\n",
       "      <th>WB_NB_CAT</th>\n",
       "      <th>pax_count_ttl</th>\n",
       "    </tr>\n",
       "  </thead>\n",
       "  <tbody>\n",
       "    <tr>\n",
       "      <th>0</th>\n",
       "      <td>NB</td>\n",
       "      <td>7222830</td>\n",
       "    </tr>\n",
       "    <tr>\n",
       "      <th>1</th>\n",
       "      <td>WB</td>\n",
       "      <td>4754033</td>\n",
       "    </tr>\n",
       "  </tbody>\n",
       "</table>\n",
       "</div>"
      ],
      "text/plain": [
       "  WB_NB_CAT  pax_count_ttl\n",
       "0        NB        7222830\n",
       "1        WB        4754033"
      ]
     },
     "execution_count": 64,
     "metadata": {},
     "output_type": "execute_result"
    }
   ],
   "source": [
    "# a look at the data\n",
    "df_groupby_wb_nb_ttl"
   ]
  },
  {
   "cell_type": "code",
   "execution_count": 65,
   "metadata": {},
   "outputs": [],
   "source": [
    "# now, let's left join df_groupby_wb_nb_ttl onto df_groupby_wb_nb\n",
    "# this adds a new column to the df_groupby_wb_nb table (pax_count_ttl) that will be used to get the percentage of passenger eligible by Tier\n",
    "\n",
    "df_groupby_wb_nb = pd.merge(df_groupby_wb_nb,\n",
    "                            df_groupby_wb_nb_ttl,\n",
    "                            on = ['WB_NB_CAT'],\n",
    "                            how = 'left'\n",
    "                           )"
   ]
  },
  {
   "cell_type": "code",
   "execution_count": 66,
   "metadata": {},
   "outputs": [
    {
     "data": {
      "text/html": [
       "<div>\n",
       "<style scoped>\n",
       "    .dataframe tbody tr th:only-of-type {\n",
       "        vertical-align: middle;\n",
       "    }\n",
       "\n",
       "    .dataframe tbody tr th {\n",
       "        vertical-align: top;\n",
       "    }\n",
       "\n",
       "    .dataframe thead th {\n",
       "        text-align: right;\n",
       "    }\n",
       "</style>\n",
       "<table border=\"1\" class=\"dataframe\">\n",
       "  <thead>\n",
       "    <tr style=\"text-align: right;\">\n",
       "      <th></th>\n",
       "      <th>WB_NB_CAT</th>\n",
       "      <th>Lounge_eligibility_tier</th>\n",
       "      <th>pax_count</th>\n",
       "      <th>pax_count_ttl</th>\n",
       "    </tr>\n",
       "  </thead>\n",
       "  <tbody>\n",
       "    <tr>\n",
       "      <th>0</th>\n",
       "      <td>NB</td>\n",
       "      <td>Not eligible</td>\n",
       "      <td>5254338</td>\n",
       "      <td>7222830</td>\n",
       "    </tr>\n",
       "    <tr>\n",
       "      <th>1</th>\n",
       "      <td>NB</td>\n",
       "      <td>Tier 1</td>\n",
       "      <td>41728</td>\n",
       "      <td>7222830</td>\n",
       "    </tr>\n",
       "    <tr>\n",
       "      <th>2</th>\n",
       "      <td>NB</td>\n",
       "      <td>Tier 2</td>\n",
       "      <td>507654</td>\n",
       "      <td>7222830</td>\n",
       "    </tr>\n",
       "    <tr>\n",
       "      <th>3</th>\n",
       "      <td>NB</td>\n",
       "      <td>Tier 3</td>\n",
       "      <td>1419110</td>\n",
       "      <td>7222830</td>\n",
       "    </tr>\n",
       "    <tr>\n",
       "      <th>4</th>\n",
       "      <td>WB</td>\n",
       "      <td>Not eligible</td>\n",
       "      <td>3247830</td>\n",
       "      <td>4754033</td>\n",
       "    </tr>\n",
       "    <tr>\n",
       "      <th>5</th>\n",
       "      <td>WB</td>\n",
       "      <td>Tier 1</td>\n",
       "      <td>212870</td>\n",
       "      <td>4754033</td>\n",
       "    </tr>\n",
       "    <tr>\n",
       "      <th>6</th>\n",
       "      <td>WB</td>\n",
       "      <td>Tier 2</td>\n",
       "      <td>266063</td>\n",
       "      <td>4754033</td>\n",
       "    </tr>\n",
       "    <tr>\n",
       "      <th>7</th>\n",
       "      <td>WB</td>\n",
       "      <td>Tier 3</td>\n",
       "      <td>1027270</td>\n",
       "      <td>4754033</td>\n",
       "    </tr>\n",
       "  </tbody>\n",
       "</table>\n",
       "</div>"
      ],
      "text/plain": [
       "  WB_NB_CAT Lounge_eligibility_tier  pax_count  pax_count_ttl\n",
       "0        NB            Not eligible    5254338        7222830\n",
       "1        NB                  Tier 1      41728        7222830\n",
       "2        NB                  Tier 2     507654        7222830\n",
       "3        NB                  Tier 3    1419110        7222830\n",
       "4        WB            Not eligible    3247830        4754033\n",
       "5        WB                  Tier 1     212870        4754033\n",
       "6        WB                  Tier 2     266063        4754033\n",
       "7        WB                  Tier 3    1027270        4754033"
      ]
     },
     "execution_count": 66,
     "metadata": {},
     "output_type": "execute_result"
    }
   ],
   "source": [
    "# a look at the data\n",
    "df_groupby_wb_nb"
   ]
  },
  {
   "cell_type": "code",
   "execution_count": 67,
   "metadata": {},
   "outputs": [],
   "source": [
    "# getting the percentage of pax elegible for each of the Tiers\n",
    "\n",
    "df_groupby_wb_nb['pax_eligible%'] = (df_groupby_wb_nb['pax_count'] / df_groupby_wb_nb['pax_count_ttl'] )*100 \n",
    "\n",
    "# getting the pax_elegible% column in the right format\n",
    "df_groupby_wb_nb['pax_eligible%'] = df_groupby_wb_nb['pax_eligible%'].map('{:,.1f}%'.format)"
   ]
  },
  {
   "cell_type": "code",
   "execution_count": 68,
   "metadata": {},
   "outputs": [],
   "source": [
    "# dropping pax_count, pax_count_ttl columns - not needed anymore\n",
    "df_groupby_wb_nb.drop(columns=['pax_count','pax_count_ttl'],inplace = True)"
   ]
  },
  {
   "cell_type": "code",
   "execution_count": 69,
   "metadata": {},
   "outputs": [
    {
     "data": {
      "text/html": [
       "<div>\n",
       "<style scoped>\n",
       "    .dataframe tbody tr th:only-of-type {\n",
       "        vertical-align: middle;\n",
       "    }\n",
       "\n",
       "    .dataframe tbody tr th {\n",
       "        vertical-align: top;\n",
       "    }\n",
       "\n",
       "    .dataframe thead th {\n",
       "        text-align: right;\n",
       "    }\n",
       "</style>\n",
       "<table border=\"1\" class=\"dataframe\">\n",
       "  <thead>\n",
       "    <tr style=\"text-align: right;\">\n",
       "      <th></th>\n",
       "      <th>WB_NB_CAT</th>\n",
       "      <th>Lounge_eligibility_tier</th>\n",
       "      <th>pax_eligible%</th>\n",
       "    </tr>\n",
       "  </thead>\n",
       "  <tbody>\n",
       "    <tr>\n",
       "      <th>0</th>\n",
       "      <td>NB</td>\n",
       "      <td>Not eligible</td>\n",
       "      <td>72.7%</td>\n",
       "    </tr>\n",
       "    <tr>\n",
       "      <th>1</th>\n",
       "      <td>NB</td>\n",
       "      <td>Tier 1</td>\n",
       "      <td>0.6%</td>\n",
       "    </tr>\n",
       "    <tr>\n",
       "      <th>2</th>\n",
       "      <td>NB</td>\n",
       "      <td>Tier 2</td>\n",
       "      <td>7.0%</td>\n",
       "    </tr>\n",
       "    <tr>\n",
       "      <th>3</th>\n",
       "      <td>NB</td>\n",
       "      <td>Tier 3</td>\n",
       "      <td>19.6%</td>\n",
       "    </tr>\n",
       "    <tr>\n",
       "      <th>4</th>\n",
       "      <td>WB</td>\n",
       "      <td>Not eligible</td>\n",
       "      <td>68.3%</td>\n",
       "    </tr>\n",
       "    <tr>\n",
       "      <th>5</th>\n",
       "      <td>WB</td>\n",
       "      <td>Tier 1</td>\n",
       "      <td>4.5%</td>\n",
       "    </tr>\n",
       "    <tr>\n",
       "      <th>6</th>\n",
       "      <td>WB</td>\n",
       "      <td>Tier 2</td>\n",
       "      <td>5.6%</td>\n",
       "    </tr>\n",
       "    <tr>\n",
       "      <th>7</th>\n",
       "      <td>WB</td>\n",
       "      <td>Tier 3</td>\n",
       "      <td>21.6%</td>\n",
       "    </tr>\n",
       "  </tbody>\n",
       "</table>\n",
       "</div>"
      ],
      "text/plain": [
       "  WB_NB_CAT Lounge_eligibility_tier pax_eligible%\n",
       "0        NB            Not eligible         72.7%\n",
       "1        NB                  Tier 1          0.6%\n",
       "2        NB                  Tier 2          7.0%\n",
       "3        NB                  Tier 3         19.6%\n",
       "4        WB            Not eligible         68.3%\n",
       "5        WB                  Tier 1          4.5%\n",
       "6        WB                  Tier 2          5.6%\n",
       "7        WB                  Tier 3         21.6%"
      ]
     },
     "execution_count": 69,
     "metadata": {},
     "output_type": "execute_result"
    }
   ],
   "source": [
    "# a look at the data\n",
    "df_groupby_wb_nb"
   ]
  },
  {
   "cell_type": "code",
   "execution_count": 70,
   "metadata": {},
   "outputs": [],
   "source": [
    "# dropping 'not eligible' rows - not needed anymore\n",
    "mask = df_groupby_wb_nb['Lounge_eligibility_tier'] == 'Not eligible'\n",
    "\n",
    "df_groupby_wb_nb = df_groupby_wb_nb[~mask].copy()"
   ]
  },
  {
   "cell_type": "markdown",
   "metadata": {},
   "source": [
    "<br>\n",
    "\n",
    "Please save your final lookup table below in the form of a pandas dataframe. It must contain the categories you have come up with as rows, and the Tier 1, Tier 2, and Tier 3 percentage of costumers as columns."
   ]
  },
  {
   "cell_type": "code",
   "execution_count": 71,
   "metadata": {},
   "outputs": [],
   "source": [
    "# using set_index to come up with the final lookup table\n",
    "df_groupby_wb_nb = df_groupby_wb_nb.set_index(['WB_NB_CAT','Lounge_eligibility_tier'],drop = True).unstack('Lounge_eligibility_tier')"
   ]
  },
  {
   "cell_type": "code",
   "execution_count": 72,
   "metadata": {},
   "outputs": [
    {
     "data": {
      "text/html": [
       "<div>\n",
       "<style scoped>\n",
       "    .dataframe tbody tr th:only-of-type {\n",
       "        vertical-align: middle;\n",
       "    }\n",
       "\n",
       "    .dataframe tbody tr th {\n",
       "        vertical-align: top;\n",
       "    }\n",
       "\n",
       "    .dataframe thead tr th {\n",
       "        text-align: left;\n",
       "    }\n",
       "\n",
       "    .dataframe thead tr:last-of-type th {\n",
       "        text-align: right;\n",
       "    }\n",
       "</style>\n",
       "<table border=\"1\" class=\"dataframe\">\n",
       "  <thead>\n",
       "    <tr>\n",
       "      <th></th>\n",
       "      <th colspan=\"3\" halign=\"left\">pax_eligible%</th>\n",
       "    </tr>\n",
       "    <tr>\n",
       "      <th>Lounge_eligibility_tier</th>\n",
       "      <th>Tier 1</th>\n",
       "      <th>Tier 2</th>\n",
       "      <th>Tier 3</th>\n",
       "    </tr>\n",
       "    <tr>\n",
       "      <th>WB_NB_CAT</th>\n",
       "      <th></th>\n",
       "      <th></th>\n",
       "      <th></th>\n",
       "    </tr>\n",
       "  </thead>\n",
       "  <tbody>\n",
       "    <tr>\n",
       "      <th>NB</th>\n",
       "      <td>0.6%</td>\n",
       "      <td>7.0%</td>\n",
       "      <td>19.6%</td>\n",
       "    </tr>\n",
       "    <tr>\n",
       "      <th>WB</th>\n",
       "      <td>4.5%</td>\n",
       "      <td>5.6%</td>\n",
       "      <td>21.6%</td>\n",
       "    </tr>\n",
       "  </tbody>\n",
       "</table>\n",
       "</div>"
      ],
      "text/plain": [
       "                        pax_eligible%              \n",
       "Lounge_eligibility_tier        Tier 1 Tier 2 Tier 3\n",
       "WB_NB_CAT                                          \n",
       "NB                               0.6%   7.0%  19.6%\n",
       "WB                               4.5%   5.6%  21.6%"
      ]
     },
     "execution_count": 72,
     "metadata": {},
     "output_type": "execute_result"
    }
   ],
   "source": [
    "# final table\n",
    "df_groupby_wb_nb"
   ]
  },
  {
   "cell_type": "markdown",
   "metadata": {},
   "source": [
    "<br>\n",
    "\n",
    "**Feedback:** This analysis provides a lookup table in the format needed to be input into a future schedule. Nevertheless, this analysis is too high level and you haven't provided any evidence for your assumptions. To further enhance your answer use insights from the data and provide evidence for your assumptions. Please find some ideas below: \n",
    "\n",
    "- Using the same categories (WB,NB), plot data overtime to better understand the peaks for the different lounges. \n",
    "- Is there a way to split Widebody into more categories? Do the Haul, Region, Time of Day, or Country play a role in the number of passengers that are eligible in Tier 1, Tier 2 and Tier 3? Etc..."
   ]
  },
  {
   "cell_type": "markdown",
   "metadata": {},
   "source": [
    "<br><br>\n",
    "\n",
    "**Reasoning (Example 2)**:\n",
    "\n"
   ]
  },
  {
   "cell_type": "markdown",
   "metadata": {},
   "source": [
    "<u>What level of granularity do you use?</u>\n",
    "- I have decided to split all flights in the network based on their flight number. I will therefore have a lookup table with a lot of categories as each flight number is a category. \n",
    "\n",
    "<u>What metric do you use to come up with Lounge eligibility profiles?</u>\n",
    "- I have sumed up all the passengers by flight number, by Tier. Then I have divided them by the total number of passengers flight number.  "
   ]
  },
  {
   "cell_type": "code",
   "execution_count": 73,
   "metadata": {},
   "outputs": [],
   "source": [
    "# your code here!"
   ]
  },
  {
   "cell_type": "code",
   "execution_count": 74,
   "metadata": {},
   "outputs": [
    {
     "data": {
      "text/html": [
       "<div>\n",
       "<style scoped>\n",
       "    .dataframe tbody tr th:only-of-type {\n",
       "        vertical-align: middle;\n",
       "    }\n",
       "\n",
       "    .dataframe tbody tr th {\n",
       "        vertical-align: top;\n",
       "    }\n",
       "\n",
       "    .dataframe thead th {\n",
       "        text-align: right;\n",
       "    }\n",
       "</style>\n",
       "<table border=\"1\" class=\"dataframe\">\n",
       "  <thead>\n",
       "    <tr style=\"text-align: right;\">\n",
       "      <th></th>\n",
       "      <th>OPERATING_FLT_NO</th>\n",
       "      <th>DISCHARGE_STN_CD</th>\n",
       "      <th>Lounge_eligibility_tier</th>\n",
       "      <th>pax_count</th>\n",
       "    </tr>\n",
       "  </thead>\n",
       "  <tbody>\n",
       "    <tr>\n",
       "      <th>0</th>\n",
       "      <td>5</td>\n",
       "      <td>NRT</td>\n",
       "      <td>Not eligible</td>\n",
       "      <td>29385</td>\n",
       "    </tr>\n",
       "    <tr>\n",
       "      <th>1</th>\n",
       "      <td>5</td>\n",
       "      <td>NRT</td>\n",
       "      <td>Tier 1</td>\n",
       "      <td>2043</td>\n",
       "    </tr>\n",
       "    <tr>\n",
       "      <th>2</th>\n",
       "      <td>5</td>\n",
       "      <td>NRT</td>\n",
       "      <td>Tier 2</td>\n",
       "      <td>2237</td>\n",
       "    </tr>\n",
       "    <tr>\n",
       "      <th>3</th>\n",
       "      <td>5</td>\n",
       "      <td>NRT</td>\n",
       "      <td>Tier 3</td>\n",
       "      <td>8581</td>\n",
       "    </tr>\n",
       "  </tbody>\n",
       "</table>\n",
       "</div>"
      ],
      "text/plain": [
       "   OPERATING_FLT_NO DISCHARGE_STN_CD Lounge_eligibility_tier  pax_count\n",
       "0                 5              NRT            Not eligible      29385\n",
       "1                 5              NRT                  Tier 1       2043\n",
       "2                 5              NRT                  Tier 2       2237\n",
       "3                 5              NRT                  Tier 3       8581"
      ]
     },
     "execution_count": 74,
     "metadata": {},
     "output_type": "execute_result"
    }
   ],
   "source": [
    "# columns that you want to group by\n",
    "list_groupby = ['OPERATING_FLT_NO','DISCHARGE_STN_CD','Lounge_eligibility_tier']\n",
    "\n",
    "# grouping by OPERATING_FLT_NO, DISCHARGE_STN_CD and Lounge_eligibility_tier\n",
    "df_groupby_flt_no = df_lounge_elig_flight_info_country_acft_typ.groupby(list_groupby).agg(\n",
    "                pax_count = ('pax','sum')\n",
    ").reset_index()\n",
    "\n",
    "# a look at the data\n",
    "df_groupby_flt_no.head(4)"
   ]
  },
  {
   "cell_type": "code",
   "execution_count": 75,
   "metadata": {},
   "outputs": [],
   "source": [
    "# getting the number of pax by OPERATING_FLT_NO and DISCHARGE_STN_CD\n",
    "\n",
    "# columns that you want to group by\n",
    "list_groupby = ['OPERATING_FLT_NO','DISCHARGE_STN_CD']\n",
    "\n",
    "# grouping by WB_NB_CAT\n",
    "df_groupby_flt_no_ttl = df_lounge_elig_flight_info_country_acft_typ.groupby(list_groupby).agg(\n",
    "                pax_count_ttl = ('pax','sum')\n",
    ").reset_index()"
   ]
  },
  {
   "cell_type": "code",
   "execution_count": 76,
   "metadata": {},
   "outputs": [
    {
     "data": {
      "text/html": [
       "<div>\n",
       "<style scoped>\n",
       "    .dataframe tbody tr th:only-of-type {\n",
       "        vertical-align: middle;\n",
       "    }\n",
       "\n",
       "    .dataframe tbody tr th {\n",
       "        vertical-align: top;\n",
       "    }\n",
       "\n",
       "    .dataframe thead th {\n",
       "        text-align: right;\n",
       "    }\n",
       "</style>\n",
       "<table border=\"1\" class=\"dataframe\">\n",
       "  <thead>\n",
       "    <tr style=\"text-align: right;\">\n",
       "      <th></th>\n",
       "      <th>OPERATING_FLT_NO</th>\n",
       "      <th>DISCHARGE_STN_CD</th>\n",
       "      <th>pax_count_ttl</th>\n",
       "    </tr>\n",
       "  </thead>\n",
       "  <tbody>\n",
       "    <tr>\n",
       "      <th>0</th>\n",
       "      <td>5</td>\n",
       "      <td>NRT</td>\n",
       "      <td>42246</td>\n",
       "    </tr>\n",
       "    <tr>\n",
       "      <th>1</th>\n",
       "      <td>7</td>\n",
       "      <td>HND</td>\n",
       "      <td>60228</td>\n",
       "    </tr>\n",
       "  </tbody>\n",
       "</table>\n",
       "</div>"
      ],
      "text/plain": [
       "   OPERATING_FLT_NO DISCHARGE_STN_CD  pax_count_ttl\n",
       "0                 5              NRT          42246\n",
       "1                 7              HND          60228"
      ]
     },
     "execution_count": 76,
     "metadata": {},
     "output_type": "execute_result"
    }
   ],
   "source": [
    "# a look at the data\n",
    "df_groupby_flt_no_ttl.head(2)"
   ]
  },
  {
   "cell_type": "code",
   "execution_count": 77,
   "metadata": {},
   "outputs": [],
   "source": [
    "# now, let's left join df_groupby_flt_no_ttl onto df_groupby_flt_no\n",
    "# this adds a new column to the df_groupby_flt_no table (pax_count_ttl) that will be used to get the percentage of passenger eligible by Tier\n",
    "\n",
    "df_groupby_flt_no = pd.merge(df_groupby_flt_no,\n",
    "                            df_groupby_flt_no_ttl,\n",
    "                            on = ['OPERATING_FLT_NO','DISCHARGE_STN_CD'],\n",
    "                            how = 'left'\n",
    "                           )"
   ]
  },
  {
   "cell_type": "code",
   "execution_count": 78,
   "metadata": {},
   "outputs": [
    {
     "data": {
      "text/html": [
       "<div>\n",
       "<style scoped>\n",
       "    .dataframe tbody tr th:only-of-type {\n",
       "        vertical-align: middle;\n",
       "    }\n",
       "\n",
       "    .dataframe tbody tr th {\n",
       "        vertical-align: top;\n",
       "    }\n",
       "\n",
       "    .dataframe thead th {\n",
       "        text-align: right;\n",
       "    }\n",
       "</style>\n",
       "<table border=\"1\" class=\"dataframe\">\n",
       "  <thead>\n",
       "    <tr style=\"text-align: right;\">\n",
       "      <th></th>\n",
       "      <th>OPERATING_FLT_NO</th>\n",
       "      <th>DISCHARGE_STN_CD</th>\n",
       "      <th>Lounge_eligibility_tier</th>\n",
       "      <th>pax_count</th>\n",
       "      <th>pax_count_ttl</th>\n",
       "    </tr>\n",
       "  </thead>\n",
       "  <tbody>\n",
       "    <tr>\n",
       "      <th>0</th>\n",
       "      <td>5</td>\n",
       "      <td>NRT</td>\n",
       "      <td>Not eligible</td>\n",
       "      <td>29385</td>\n",
       "      <td>42246</td>\n",
       "    </tr>\n",
       "    <tr>\n",
       "      <th>1</th>\n",
       "      <td>5</td>\n",
       "      <td>NRT</td>\n",
       "      <td>Tier 1</td>\n",
       "      <td>2043</td>\n",
       "      <td>42246</td>\n",
       "    </tr>\n",
       "    <tr>\n",
       "      <th>2</th>\n",
       "      <td>5</td>\n",
       "      <td>NRT</td>\n",
       "      <td>Tier 2</td>\n",
       "      <td>2237</td>\n",
       "      <td>42246</td>\n",
       "    </tr>\n",
       "    <tr>\n",
       "      <th>3</th>\n",
       "      <td>5</td>\n",
       "      <td>NRT</td>\n",
       "      <td>Tier 3</td>\n",
       "      <td>8581</td>\n",
       "      <td>42246</td>\n",
       "    </tr>\n",
       "  </tbody>\n",
       "</table>\n",
       "</div>"
      ],
      "text/plain": [
       "   OPERATING_FLT_NO DISCHARGE_STN_CD Lounge_eligibility_tier  pax_count  \\\n",
       "0                 5              NRT            Not eligible      29385   \n",
       "1                 5              NRT                  Tier 1       2043   \n",
       "2                 5              NRT                  Tier 2       2237   \n",
       "3                 5              NRT                  Tier 3       8581   \n",
       "\n",
       "   pax_count_ttl  \n",
       "0          42246  \n",
       "1          42246  \n",
       "2          42246  \n",
       "3          42246  "
      ]
     },
     "execution_count": 78,
     "metadata": {},
     "output_type": "execute_result"
    }
   ],
   "source": [
    "# a look at the data\n",
    "df_groupby_flt_no.head(4)"
   ]
  },
  {
   "cell_type": "code",
   "execution_count": 79,
   "metadata": {},
   "outputs": [],
   "source": [
    "# getting the percentage of pax elegible for each of the Tiers\n",
    "\n",
    "df_groupby_flt_no['pax_eligible%'] = (df_groupby_flt_no['pax_count'] / df_groupby_flt_no['pax_count_ttl'] )*100 \n",
    "\n",
    "# getting the pax_elegible% column in the right format\n",
    "df_groupby_flt_no['pax_eligible%'] = df_groupby_flt_no['pax_eligible%'].map('{:,.1f}%'.format)\n",
    "\n",
    "# dropping pax_count, pax_count_ttl columns - not needed anymore\n",
    "df_groupby_flt_no.drop(columns=['pax_count','pax_count_ttl'],inplace = True)"
   ]
  },
  {
   "cell_type": "code",
   "execution_count": 80,
   "metadata": {},
   "outputs": [
    {
     "data": {
      "text/html": [
       "<div>\n",
       "<style scoped>\n",
       "    .dataframe tbody tr th:only-of-type {\n",
       "        vertical-align: middle;\n",
       "    }\n",
       "\n",
       "    .dataframe tbody tr th {\n",
       "        vertical-align: top;\n",
       "    }\n",
       "\n",
       "    .dataframe thead th {\n",
       "        text-align: right;\n",
       "    }\n",
       "</style>\n",
       "<table border=\"1\" class=\"dataframe\">\n",
       "  <thead>\n",
       "    <tr style=\"text-align: right;\">\n",
       "      <th></th>\n",
       "      <th>OPERATING_FLT_NO</th>\n",
       "      <th>DISCHARGE_STN_CD</th>\n",
       "      <th>Lounge_eligibility_tier</th>\n",
       "      <th>pax_eligible%</th>\n",
       "    </tr>\n",
       "  </thead>\n",
       "  <tbody>\n",
       "    <tr>\n",
       "      <th>0</th>\n",
       "      <td>5</td>\n",
       "      <td>NRT</td>\n",
       "      <td>Not eligible</td>\n",
       "      <td>69.6%</td>\n",
       "    </tr>\n",
       "    <tr>\n",
       "      <th>1</th>\n",
       "      <td>5</td>\n",
       "      <td>NRT</td>\n",
       "      <td>Tier 1</td>\n",
       "      <td>4.8%</td>\n",
       "    </tr>\n",
       "    <tr>\n",
       "      <th>2</th>\n",
       "      <td>5</td>\n",
       "      <td>NRT</td>\n",
       "      <td>Tier 2</td>\n",
       "      <td>5.3%</td>\n",
       "    </tr>\n",
       "    <tr>\n",
       "      <th>3</th>\n",
       "      <td>5</td>\n",
       "      <td>NRT</td>\n",
       "      <td>Tier 3</td>\n",
       "      <td>20.3%</td>\n",
       "    </tr>\n",
       "  </tbody>\n",
       "</table>\n",
       "</div>"
      ],
      "text/plain": [
       "   OPERATING_FLT_NO DISCHARGE_STN_CD Lounge_eligibility_tier pax_eligible%\n",
       "0                 5              NRT            Not eligible         69.6%\n",
       "1                 5              NRT                  Tier 1          4.8%\n",
       "2                 5              NRT                  Tier 2          5.3%\n",
       "3                 5              NRT                  Tier 3         20.3%"
      ]
     },
     "execution_count": 80,
     "metadata": {},
     "output_type": "execute_result"
    }
   ],
   "source": [
    "# a look at the data\n",
    "df_groupby_flt_no.head(4)"
   ]
  },
  {
   "cell_type": "code",
   "execution_count": 81,
   "metadata": {},
   "outputs": [],
   "source": [
    "# dropping 'not eligible' rows - not needed anymore\n",
    "mask = df_groupby_flt_no['Lounge_eligibility_tier'] == 'Not eligible'\n",
    "\n",
    "df_groupby_flt_no = df_groupby_flt_no[~mask].copy()"
   ]
  },
  {
   "cell_type": "markdown",
   "metadata": {},
   "source": [
    "<br>\n",
    "\n",
    "Please save your final lookup table below in the form of a pandas dataframe. It must contain the categories you have come up with as rows, and the Tier 1, Tier 2, and Tier 3 percentage of costumers as columns."
   ]
  },
  {
   "cell_type": "code",
   "execution_count": 82,
   "metadata": {},
   "outputs": [],
   "source": [
    "# using set_index to come up with the final lookup table\n",
    "df_groupby_flt_no = df_groupby_flt_no.set_index(['OPERATING_FLT_NO','DISCHARGE_STN_CD','Lounge_eligibility_tier'],drop = True).unstack('Lounge_eligibility_tier')"
   ]
  },
  {
   "cell_type": "code",
   "execution_count": 83,
   "metadata": {},
   "outputs": [
    {
     "data": {
      "text/html": [
       "<div>\n",
       "<style scoped>\n",
       "    .dataframe tbody tr th:only-of-type {\n",
       "        vertical-align: middle;\n",
       "    }\n",
       "\n",
       "    .dataframe tbody tr th {\n",
       "        vertical-align: top;\n",
       "    }\n",
       "\n",
       "    .dataframe thead tr th {\n",
       "        text-align: left;\n",
       "    }\n",
       "\n",
       "    .dataframe thead tr:last-of-type th {\n",
       "        text-align: right;\n",
       "    }\n",
       "</style>\n",
       "<table border=\"1\" class=\"dataframe\">\n",
       "  <thead>\n",
       "    <tr>\n",
       "      <th></th>\n",
       "      <th></th>\n",
       "      <th colspan=\"3\" halign=\"left\">pax_eligible%</th>\n",
       "    </tr>\n",
       "    <tr>\n",
       "      <th></th>\n",
       "      <th>Lounge_eligibility_tier</th>\n",
       "      <th>Tier 1</th>\n",
       "      <th>Tier 2</th>\n",
       "      <th>Tier 3</th>\n",
       "    </tr>\n",
       "    <tr>\n",
       "      <th>OPERATING_FLT_NO</th>\n",
       "      <th>DISCHARGE_STN_CD</th>\n",
       "      <th></th>\n",
       "      <th></th>\n",
       "      <th></th>\n",
       "    </tr>\n",
       "  </thead>\n",
       "  <tbody>\n",
       "    <tr>\n",
       "      <th>5</th>\n",
       "      <th>NRT</th>\n",
       "      <td>4.8%</td>\n",
       "      <td>5.3%</td>\n",
       "      <td>20.3%</td>\n",
       "    </tr>\n",
       "    <tr>\n",
       "      <th>7</th>\n",
       "      <th>HND</th>\n",
       "      <td>6.6%</td>\n",
       "      <td>6.1%</td>\n",
       "      <td>20.9%</td>\n",
       "    </tr>\n",
       "    <tr>\n",
       "      <th>9</th>\n",
       "      <th>BKK</th>\n",
       "      <td>0.4%</td>\n",
       "      <td>4.9%</td>\n",
       "      <td>18.7%</td>\n",
       "    </tr>\n",
       "    <tr>\n",
       "      <th>11</th>\n",
       "      <th>SIN</th>\n",
       "      <td>4.3%</td>\n",
       "      <td>7.0%</td>\n",
       "      <td>22.6%</td>\n",
       "    </tr>\n",
       "  </tbody>\n",
       "</table>\n",
       "</div>"
      ],
      "text/plain": [
       "                                  pax_eligible%              \n",
       "Lounge_eligibility_tier                  Tier 1 Tier 2 Tier 3\n",
       "OPERATING_FLT_NO DISCHARGE_STN_CD                            \n",
       "5                NRT                       4.8%   5.3%  20.3%\n",
       "7                HND                       6.6%   6.1%  20.9%\n",
       "9                BKK                       0.4%   4.9%  18.7%\n",
       "11               SIN                       4.3%   7.0%  22.6%"
      ]
     },
     "execution_count": 83,
     "metadata": {},
     "output_type": "execute_result"
    }
   ],
   "source": [
    "# final table\n",
    "df_groupby_flt_no.head(4)"
   ]
  },
  {
   "cell_type": "markdown",
   "metadata": {},
   "source": [
    "<br>\n",
    "\n",
    "**Feedback:** This analysis goes at a very granular level, we might come up with missing values if we apply this lounge eligibility profiles to a future schedule. Here are some ideas to further enhance your answer: \n",
    "\n",
    "- What would happen if we fly to a new destination in the future? How do we ensure we have a lounge eligibility profile for this new route?\n",
    "- As you can see in the example above: Pax eligible for Tier 1 for the BKK flight is significantly different from the rest. What's the most used aircraft type for this route? And why it differs that much from the rest? Is it because of the route characteristics instead?\n",
    "- For SH routes, we might change the time of departure for a specific flight number from one year to the next. Explore the possibility of using a clasification that takes that into account, like using Time of Day instead of flight number. "
   ]
  },
  {
   "cell_type": "markdown",
   "metadata": {},
   "source": [
    "<br><br><br>"
   ]
  },
  {
   "cell_type": "code",
   "execution_count": null,
   "metadata": {},
   "outputs": [],
   "source": [
    "#--------------------------------\n",
    "#\n",
    "# Your turn!!!\n",
    "#\n",
    "#--------------------------------"
   ]
  },
  {
   "cell_type": "markdown",
   "metadata": {},
   "source": [
    "<u>What level of granularity do you use?</u>\n",
    "- ... (your answer here)\n",
    "\n",
    "<u>What metric do you use to come up with Lounge eligibility profiles?</u>\n",
    "- ... (your answer here)"
   ]
  },
  {
   "cell_type": "code",
   "execution_count": null,
   "metadata": {},
   "outputs": [],
   "source": [
    "# your code here"
   ]
  },
  {
   "cell_type": "markdown",
   "metadata": {},
   "source": [
    "<br>\n",
    "\n",
    "Please save your final lookup table below in the form of a pandas dataframe. It must contain the categories you have come up with as rows, and the Tier 1, Tier 2, and Tier 3 percentage of costumers as columns."
   ]
  },
  {
   "cell_type": "code",
   "execution_count": null,
   "metadata": {},
   "outputs": [],
   "source": []
  }
 ],
 "metadata": {
  "instance_type": "ml.t3.medium",
  "kernelspec": {
   "display_name": "Python 3 (Data Science)",
   "language": "python",
   "name": "python3__SAGEMAKER_INTERNAL__arn:aws:sagemaker:eu-west-1:470317259841:image/datascience-1.0"
  },
  "language_info": {
   "codemirror_mode": {
    "name": "ipython",
    "version": 3
   },
   "file_extension": ".py",
   "mimetype": "text/x-python",
   "name": "python",
   "nbconvert_exporter": "python",
   "pygments_lexer": "ipython3",
   "version": "3.7.10"
  },
  "lcc_arn": "arn:aws:sagemaker:eu-west-1:954353547965:studio-lifecycle-config/install-cadspy-v1-8-1r2"
 },
 "nbformat": 4,
 "nbformat_minor": 4
}
