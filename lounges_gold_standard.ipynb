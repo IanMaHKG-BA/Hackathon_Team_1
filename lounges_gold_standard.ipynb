{
 "cells": [
  {
   "cell_type": "markdown",
   "metadata": {},
   "source": [
    "## Connect to ICW:"
   ]
  },
  {
   "cell_type": "code",
   "execution_count": 1,
   "metadata": {},
   "outputs": [],
   "source": [
    "import cadspy"
   ]
  },
  {
   "cell_type": "code",
   "execution_count": 2,
   "metadata": {},
   "outputs": [
    {
     "name": "stdin",
     "output_type": "stream",
     "text": [
      "Enter Password:  ··············\n"
     ]
    }
   ],
   "source": [
    "icw = cadspy.DatabaseConnection(system='ICW', user='u243700')"
   ]
  },
  {
   "cell_type": "markdown",
   "metadata": {},
   "source": [
    "<br>\n",
    "<div class=\"alert alert-\" style = \"border-radius:10px;border-width:3px;border-color:salmon;font-family:Verdana,sans-serif;font-size:16px;\">\n",
    "\n",
    "<font size=\"4\">Can't connect to ICW? Instructions on how to get access to it in the links below:\n",
    "\n",
    "</font>\n",
    "</div>"
   ]
  },
  {
   "cell_type": "markdown",
   "metadata": {},
   "source": [
    "- Step 1: [Requesting Access to GitHub](https://baplc.sharepoint.com/sites/ask/SitePages/Requesting-Access-to-GitHub.aspx)\n",
    "\n",
    "Once your access to GitHub has been aproved, you need to:\n",
    "\n",
    "- Step 2: [Request access to British-Ent GitHub organisation](https://github.com/BritishAirways-Ent/insight-processes/blob/main/onboarding/Corporate_Directory_git.md)\n",
    "\n",
    "And\n",
    "\n",
    "- Step 3: [Setup Sagemaker Studio to access GitHub](https://github.com/BritishAirways-Ent/insight-processes/blob/main/onboarding/sagemaker_to_github_setup.md)\n",
    "\n",
    "<br>"
   ]
  },
  {
   "cell_type": "markdown",
   "metadata": {},
   "source": [
    "Below are some packages to get you started. You don't have to use them but you may find them useful!"
   ]
  },
  {
   "cell_type": "code",
   "execution_count": 3,
   "metadata": {},
   "outputs": [],
   "source": [
    "import numpy as np\n",
    "import pandas as pd\n",
    "import datetime as dt"
   ]
  },
  {
   "cell_type": "code",
   "execution_count": 4,
   "metadata": {},
   "outputs": [],
   "source": [
    "# diplay all rows and cols when using 'dataframe'.head() or 'dataframe'.tail()\n",
    "pd.set_option('display.max_columns', None)\n",
    "pd.set_option('display.max_rows', None)"
   ]
  },
  {
   "cell_type": "markdown",
   "metadata": {},
   "source": [
    "<br>\n",
    "\n",
    "### Data\n",
    "\n",
    "#### S19 Lounge Eligibility data"
   ]
  },
  {
   "cell_type": "code",
   "execution_count": 5,
   "metadata": {},
   "outputs": [],
   "source": [
    "query = \"\"\"\n",
    "\n",
    "sel * from LDB_SBOX_OR.HACKATHON_OPS_LOUNGE_ELIGIBILITY\n",
    "\n",
    "\"\"\"\n",
    "\n",
    "df_lounge_eligibility = icw.queryToDataframe(query)"
   ]
  },
  {
   "cell_type": "code",
   "execution_count": 6,
   "metadata": {},
   "outputs": [
    {
     "data": {
      "text/html": [
       "<div>\n",
       "<style scoped>\n",
       "    .dataframe tbody tr th:only-of-type {\n",
       "        vertical-align: middle;\n",
       "    }\n",
       "\n",
       "    .dataframe tbody tr th {\n",
       "        vertical-align: top;\n",
       "    }\n",
       "\n",
       "    .dataframe thead th {\n",
       "        text-align: right;\n",
       "    }\n",
       "</style>\n",
       "<table border=\"1\" class=\"dataframe\">\n",
       "  <thead>\n",
       "    <tr style=\"text-align: right;\">\n",
       "      <th></th>\n",
       "      <th>Skew_Id</th>\n",
       "      <th>OPERATING_AIRLINE_CD</th>\n",
       "      <th>OPERATING_FLT_NO</th>\n",
       "      <th>GMT_UPLIFT_DT</th>\n",
       "      <th>UPLIFT_STN_CD</th>\n",
       "      <th>DISCHARGE_STN_CD</th>\n",
       "      <th>BOOKED_CABIN_CD</th>\n",
       "      <th>TRAVEL_CABIN_CD</th>\n",
       "      <th>BA_PAX_TIER</th>\n",
       "      <th>ONEWORLD_TIER</th>\n",
       "      <th>Lounge_eligibility_tier</th>\n",
       "      <th>pax</th>\n",
       "    </tr>\n",
       "  </thead>\n",
       "  <tbody>\n",
       "    <tr>\n",
       "      <th>0</th>\n",
       "      <td>2019-08-101414</td>\n",
       "      <td>BA</td>\n",
       "      <td>1414</td>\n",
       "      <td>2019-08-10</td>\n",
       "      <td>LHR</td>\n",
       "      <td>BHD</td>\n",
       "      <td>M</td>\n",
       "      <td>M</td>\n",
       "      <td>Gold</td>\n",
       "      <td>EMER</td>\n",
       "      <td>Tier 2</td>\n",
       "      <td>3</td>\n",
       "    </tr>\n",
       "    <tr>\n",
       "      <th>1</th>\n",
       "      <td>2023-05-17920</td>\n",
       "      <td>BA</td>\n",
       "      <td>920</td>\n",
       "      <td>2023-05-17</td>\n",
       "      <td>LHR</td>\n",
       "      <td>STR</td>\n",
       "      <td>C</td>\n",
       "      <td>C</td>\n",
       "      <td></td>\n",
       "      <td></td>\n",
       "      <td>Tier 3</td>\n",
       "      <td>13</td>\n",
       "    </tr>\n",
       "  </tbody>\n",
       "</table>\n",
       "</div>"
      ],
      "text/plain": [
       "          Skew_Id OPERATING_AIRLINE_CD  OPERATING_FLT_NO GMT_UPLIFT_DT  \\\n",
       "0  2019-08-101414               BA                  1414    2019-08-10   \n",
       "1   2023-05-17920               BA                   920    2023-05-17   \n",
       "\n",
       "  UPLIFT_STN_CD DISCHARGE_STN_CD BOOKED_CABIN_CD TRAVEL_CABIN_CD BA_PAX_TIER  \\\n",
       "0        LHR              BHD                 M               M         Gold   \n",
       "1        LHR              STR                 C               C                \n",
       "\n",
       "  ONEWORLD_TIER Lounge_eligibility_tier  pax  \n",
       "0          EMER                  Tier 2    3  \n",
       "1                                Tier 3   13  "
      ]
     },
     "execution_count": 6,
     "metadata": {},
     "output_type": "execute_result"
    }
   ],
   "source": [
    "df_lounge_eligibility.head(2)"
   ]
  },
  {
   "cell_type": "code",
   "execution_count": 7,
   "metadata": {},
   "outputs": [
    {
     "data": {
      "text/plain": [
       "(1561588, 12)"
      ]
     },
     "execution_count": 7,
     "metadata": {},
     "output_type": "execute_result"
    }
   ],
   "source": [
    "df_lounge_eligibility.shape"
   ]
  },
  {
   "cell_type": "code",
   "execution_count": 8,
   "metadata": {},
   "outputs": [],
   "source": [
    "# a look to a particular flight number and date\n",
    "\n",
    "#mask = (df_lounge_eligibility['DISCHARGE_STN_CD'] == 'GCM   ') & (df_lounge_eligibility['GMT_UPLIFT_DT'] == dt.date(2019,9,12) )\n",
    "\n",
    "#df_lounge_eligibility[mask]"
   ]
  },
  {
   "cell_type": "markdown",
   "metadata": {},
   "source": [
    "#### S19 Flight info"
   ]
  },
  {
   "cell_type": "code",
   "execution_count": 9,
   "metadata": {},
   "outputs": [],
   "source": [
    "query = \"\"\"\n",
    "\n",
    "select * from LDB_SBOX_OR.HACKATHON_OPS_FLIGHT_INFO\n",
    "\n",
    "\"\"\"\n",
    "\n",
    "df_flight_info = icw.queryToDataframe(query)"
   ]
  },
  {
   "cell_type": "code",
   "execution_count": 10,
   "metadata": {},
   "outputs": [
    {
     "data": {
      "text/plain": [
       "GMT_PLND_DEP_TS    datetime64[ns]\n",
       "GMT_ACT_DEP_TS     datetime64[ns]\n",
       "OPG_ALN_CD                 object\n",
       "OPG_FLT_NO                  int64\n",
       "ACT_DEP_STN_CD             object\n",
       "ACT_DEP_TML_CD             object\n",
       "PLND_ARR_STN_CD            object\n",
       "ACT_ARR_STN_CD             object\n",
       "IATA_AC_TYP_CD             object\n",
       "ACT_AC_TYP_CD              object\n",
       "ROUTE                      object\n",
       "dtype: object"
      ]
     },
     "execution_count": 10,
     "metadata": {},
     "output_type": "execute_result"
    }
   ],
   "source": [
    "df_flight_info.head(2)\n",
    "df_flight_info.dtypes"
   ]
  },
  {
   "cell_type": "markdown",
   "metadata": {},
   "source": [
    "#### Station Code Decode"
   ]
  },
  {
   "cell_type": "code",
   "execution_count": 11,
   "metadata": {},
   "outputs": [],
   "source": [
    "query = \"\"\"\n",
    "\n",
    "select * from LDB_SBOX_OR.HACKATHON_OPS_COUNTRY_DECODE\n",
    "\n",
    "\"\"\"\n",
    "\n",
    "df_country = icw.queryToDataframe(query)"
   ]
  },
  {
   "cell_type": "code",
   "execution_count": 12,
   "metadata": {},
   "outputs": [
    {
     "data": {
      "text/html": [
       "<div>\n",
       "<style scoped>\n",
       "    .dataframe tbody tr th:only-of-type {\n",
       "        vertical-align: middle;\n",
       "    }\n",
       "\n",
       "    .dataframe tbody tr th {\n",
       "        vertical-align: top;\n",
       "    }\n",
       "\n",
       "    .dataframe thead th {\n",
       "        text-align: right;\n",
       "    }\n",
       "</style>\n",
       "<table border=\"1\" class=\"dataframe\">\n",
       "  <thead>\n",
       "    <tr style=\"text-align: right;\">\n",
       "      <th></th>\n",
       "      <th>ROUTE</th>\n",
       "      <th>COUNTRY_CD</th>\n",
       "      <th>COUNTRY_NM</th>\n",
       "      <th>CORP_GEOG_CTRY_GRP_NM</th>\n",
       "      <th>CORP_GEOG_CONTINENT_NM</th>\n",
       "    </tr>\n",
       "  </thead>\n",
       "  <tbody>\n",
       "    <tr>\n",
       "      <th>0</th>\n",
       "      <td>LHRINV</td>\n",
       "      <td>GB</td>\n",
       "      <td>United Kingdom and Northern Ireland</td>\n",
       "      <td>UK</td>\n",
       "      <td>UK</td>\n",
       "    </tr>\n",
       "    <tr>\n",
       "      <th>1</th>\n",
       "      <td>LHRSVO</td>\n",
       "      <td>RU</td>\n",
       "      <td>Russia in Europe</td>\n",
       "      <td>EASTERN EUROPE</td>\n",
       "      <td>EUROPE EXC UK</td>\n",
       "    </tr>\n",
       "  </tbody>\n",
       "</table>\n",
       "</div>"
      ],
      "text/plain": [
       "    ROUTE COUNTRY_CD                           COUNTRY_NM  \\\n",
       "0  LHRINV        GB   United Kingdom and Northern Ireland   \n",
       "1  LHRSVO        RU                      Russia in Europe   \n",
       "\n",
       "  CORP_GEOG_CTRY_GRP_NM CORP_GEOG_CONTINENT_NM  \n",
       "0                    UK                     UK  \n",
       "1        EASTERN EUROPE          EUROPE EXC UK  "
      ]
     },
     "execution_count": 12,
     "metadata": {},
     "output_type": "execute_result"
    }
   ],
   "source": [
    "df_country.head(2)"
   ]
  },
  {
   "cell_type": "markdown",
   "metadata": {},
   "source": [
    "#### Aircraft Type"
   ]
  },
  {
   "cell_type": "code",
   "execution_count": 13,
   "metadata": {},
   "outputs": [],
   "source": [
    "query = \"\"\"\n",
    "\n",
    "select * from LDB_SBOX_OR.HACKATHON_OPS_AC_TYPE\n",
    "\n",
    "\"\"\"\n",
    "\n",
    "df_acft_typ = icw.queryToDataframe(query)"
   ]
  },
  {
   "cell_type": "code",
   "execution_count": 14,
   "metadata": {},
   "outputs": [
    {
     "data": {
      "text/html": [
       "<div>\n",
       "<style scoped>\n",
       "    .dataframe tbody tr th:only-of-type {\n",
       "        vertical-align: middle;\n",
       "    }\n",
       "\n",
       "    .dataframe tbody tr th {\n",
       "        vertical-align: top;\n",
       "    }\n",
       "\n",
       "    .dataframe thead th {\n",
       "        text-align: right;\n",
       "    }\n",
       "</style>\n",
       "<table border=\"1\" class=\"dataframe\">\n",
       "  <thead>\n",
       "    <tr style=\"text-align: right;\">\n",
       "      <th></th>\n",
       "      <th>IATA_AC_TYP_CD</th>\n",
       "      <th>ACT_AC_TYP_CD</th>\n",
       "      <th>WB_NB_CAT</th>\n",
       "      <th>FIRST_SEATS_QTY</th>\n",
       "      <th>CLUB_SEATS_QTY</th>\n",
       "      <th>PREM_ECONOMY_SEATS_QTY</th>\n",
       "      <th>ECONOMY_SEATS_QTY</th>\n",
       "    </tr>\n",
       "  </thead>\n",
       "  <tbody>\n",
       "    <tr>\n",
       "      <th>0</th>\n",
       "      <td>320</td>\n",
       "      <td>A3</td>\n",
       "      <td>NB</td>\n",
       "      <td>0</td>\n",
       "      <td>24</td>\n",
       "      <td>0</td>\n",
       "      <td>132</td>\n",
       "    </tr>\n",
       "    <tr>\n",
       "      <th>1</th>\n",
       "      <td>777</td>\n",
       "      <td>K7</td>\n",
       "      <td>WB</td>\n",
       "      <td>0</td>\n",
       "      <td>48</td>\n",
       "      <td>24</td>\n",
       "      <td>203</td>\n",
       "    </tr>\n",
       "  </tbody>\n",
       "</table>\n",
       "</div>"
      ],
      "text/plain": [
       "  IATA_AC_TYP_CD ACT_AC_TYP_CD WB_NB_CAT  FIRST_SEATS_QTY  CLUB_SEATS_QTY  \\\n",
       "0            320            A3        NB                0              24   \n",
       "1            777            K7        WB                0              48   \n",
       "\n",
       "   PREM_ECONOMY_SEATS_QTY  ECONOMY_SEATS_QTY  \n",
       "0                       0                132  \n",
       "1                      24                203  "
      ]
     },
     "execution_count": 14,
     "metadata": {},
     "output_type": "execute_result"
    }
   ],
   "source": [
    "df_acft_typ.head(2)"
   ]
  },
  {
   "cell_type": "code",
   "execution_count": 15,
   "metadata": {},
   "outputs": [
    {
     "data": {
      "text/plain": [
       "(20, 7)"
      ]
     },
     "execution_count": 15,
     "metadata": {},
     "output_type": "execute_result"
    }
   ],
   "source": [
    "df_acft_typ.shape"
   ]
  },
  {
   "cell_type": "code",
   "execution_count": 16,
   "metadata": {},
   "outputs": [
    {
     "data": {
      "text/html": [
       "<div>\n",
       "<style scoped>\n",
       "    .dataframe tbody tr th:only-of-type {\n",
       "        vertical-align: middle;\n",
       "    }\n",
       "\n",
       "    .dataframe tbody tr th {\n",
       "        vertical-align: top;\n",
       "    }\n",
       "\n",
       "    .dataframe thead th {\n",
       "        text-align: right;\n",
       "    }\n",
       "</style>\n",
       "<table border=\"1\" class=\"dataframe\">\n",
       "  <thead>\n",
       "    <tr style=\"text-align: right;\">\n",
       "      <th></th>\n",
       "      <th>IATA_AC_TYP_CD</th>\n",
       "      <th>ACT_AC_TYP_CD</th>\n",
       "      <th>WB_NB_CAT</th>\n",
       "      <th>FIRST_SEATS_QTY</th>\n",
       "      <th>CLUB_SEATS_QTY</th>\n",
       "      <th>PREM_ECONOMY_SEATS_QTY</th>\n",
       "      <th>ECONOMY_SEATS_QTY</th>\n",
       "    </tr>\n",
       "  </thead>\n",
       "  <tbody>\n",
       "    <tr>\n",
       "      <th>0</th>\n",
       "      <td>320</td>\n",
       "      <td>A3</td>\n",
       "      <td>NB</td>\n",
       "      <td>0</td>\n",
       "      <td>24</td>\n",
       "      <td>0</td>\n",
       "      <td>132</td>\n",
       "    </tr>\n",
       "    <tr>\n",
       "      <th>1</th>\n",
       "      <td>777</td>\n",
       "      <td>K7</td>\n",
       "      <td>WB</td>\n",
       "      <td>0</td>\n",
       "      <td>48</td>\n",
       "      <td>24</td>\n",
       "      <td>203</td>\n",
       "    </tr>\n",
       "    <tr>\n",
       "      <th>2</th>\n",
       "      <td>32N</td>\n",
       "      <td>N3</td>\n",
       "      <td>NB</td>\n",
       "      <td>0</td>\n",
       "      <td>20</td>\n",
       "      <td>0</td>\n",
       "      <td>150</td>\n",
       "    </tr>\n",
       "    <tr>\n",
       "      <th>3</th>\n",
       "      <td>321</td>\n",
       "      <td>M6</td>\n",
       "      <td>NB</td>\n",
       "      <td>0</td>\n",
       "      <td>23</td>\n",
       "      <td>0</td>\n",
       "      <td>131</td>\n",
       "    </tr>\n",
       "    <tr>\n",
       "      <th>4</th>\n",
       "      <td>32Q</td>\n",
       "      <td>N6</td>\n",
       "      <td>NB</td>\n",
       "      <td>0</td>\n",
       "      <td>32</td>\n",
       "      <td>0</td>\n",
       "      <td>172</td>\n",
       "    </tr>\n",
       "    <tr>\n",
       "      <th>5</th>\n",
       "      <td>789</td>\n",
       "      <td>L8</td>\n",
       "      <td>WB</td>\n",
       "      <td>8</td>\n",
       "      <td>42</td>\n",
       "      <td>39</td>\n",
       "      <td>127</td>\n",
       "    </tr>\n",
       "    <tr>\n",
       "      <th>6</th>\n",
       "      <td>32A</td>\n",
       "      <td>H3</td>\n",
       "      <td>NB</td>\n",
       "      <td>0</td>\n",
       "      <td>20</td>\n",
       "      <td>0</td>\n",
       "      <td>150</td>\n",
       "    </tr>\n",
       "    <tr>\n",
       "      <th>7</th>\n",
       "      <td>319</td>\n",
       "      <td>A4</td>\n",
       "      <td>NB</td>\n",
       "      <td>0</td>\n",
       "      <td>16</td>\n",
       "      <td>0</td>\n",
       "      <td>119</td>\n",
       "    </tr>\n",
       "    <tr>\n",
       "      <th>8</th>\n",
       "      <td>788</td>\n",
       "      <td>B8</td>\n",
       "      <td>WB</td>\n",
       "      <td>0</td>\n",
       "      <td>35</td>\n",
       "      <td>25</td>\n",
       "      <td>154</td>\n",
       "    </tr>\n",
       "    <tr>\n",
       "      <th>9</th>\n",
       "      <td>77W</td>\n",
       "      <td>G7</td>\n",
       "      <td>WB</td>\n",
       "      <td>14</td>\n",
       "      <td>56</td>\n",
       "      <td>44</td>\n",
       "      <td>183</td>\n",
       "    </tr>\n",
       "    <tr>\n",
       "      <th>10</th>\n",
       "      <td>744</td>\n",
       "      <td>S4</td>\n",
       "      <td>WB</td>\n",
       "      <td>14</td>\n",
       "      <td>86</td>\n",
       "      <td>30</td>\n",
       "      <td>145</td>\n",
       "    </tr>\n",
       "    <tr>\n",
       "      <th>11</th>\n",
       "      <td>343</td>\n",
       "      <td>W9</td>\n",
       "      <td>WB</td>\n",
       "      <td>0</td>\n",
       "      <td>45</td>\n",
       "      <td>0</td>\n",
       "      <td>212</td>\n",
       "    </tr>\n",
       "    <tr>\n",
       "      <th>12</th>\n",
       "      <td>388</td>\n",
       "      <td>A8</td>\n",
       "      <td>WB</td>\n",
       "      <td>14</td>\n",
       "      <td>97</td>\n",
       "      <td>55</td>\n",
       "      <td>303</td>\n",
       "    </tr>\n",
       "    <tr>\n",
       "      <th>13</th>\n",
       "      <td>777</td>\n",
       "      <td>L7</td>\n",
       "      <td>WB</td>\n",
       "      <td>0</td>\n",
       "      <td>48</td>\n",
       "      <td>24</td>\n",
       "      <td>203</td>\n",
       "    </tr>\n",
       "    <tr>\n",
       "      <th>14</th>\n",
       "      <td>321</td>\n",
       "      <td>V6</td>\n",
       "      <td>NB</td>\n",
       "      <td>0</td>\n",
       "      <td>38</td>\n",
       "      <td>0</td>\n",
       "      <td>160</td>\n",
       "    </tr>\n",
       "    <tr>\n",
       "      <th>15</th>\n",
       "      <td>744</td>\n",
       "      <td>V4</td>\n",
       "      <td>WB</td>\n",
       "      <td>14</td>\n",
       "      <td>52</td>\n",
       "      <td>36</td>\n",
       "      <td>235</td>\n",
       "    </tr>\n",
       "    <tr>\n",
       "      <th>16</th>\n",
       "      <td>777</td>\n",
       "      <td>P7</td>\n",
       "      <td>WB</td>\n",
       "      <td>17</td>\n",
       "      <td>48</td>\n",
       "      <td>24</td>\n",
       "      <td>127</td>\n",
       "    </tr>\n",
       "    <tr>\n",
       "      <th>17</th>\n",
       "      <td>321</td>\n",
       "      <td>W6</td>\n",
       "      <td>NB</td>\n",
       "      <td>0</td>\n",
       "      <td>42</td>\n",
       "      <td>0</td>\n",
       "      <td>154</td>\n",
       "    </tr>\n",
       "    <tr>\n",
       "      <th>18</th>\n",
       "      <td>777</td>\n",
       "      <td>V7</td>\n",
       "      <td>WB</td>\n",
       "      <td>14</td>\n",
       "      <td>48</td>\n",
       "      <td>40</td>\n",
       "      <td>124</td>\n",
       "    </tr>\n",
       "    <tr>\n",
       "      <th>19</th>\n",
       "      <td>777</td>\n",
       "      <td>W7</td>\n",
       "      <td>WB</td>\n",
       "      <td>12</td>\n",
       "      <td>48</td>\n",
       "      <td>32</td>\n",
       "      <td>127</td>\n",
       "    </tr>\n",
       "  </tbody>\n",
       "</table>\n",
       "</div>"
      ],
      "text/plain": [
       "   IATA_AC_TYP_CD ACT_AC_TYP_CD WB_NB_CAT  FIRST_SEATS_QTY  CLUB_SEATS_QTY  \\\n",
       "0             320            A3        NB                0              24   \n",
       "1             777            K7        WB                0              48   \n",
       "2             32N            N3        NB                0              20   \n",
       "3             321            M6        NB                0              23   \n",
       "4             32Q            N6        NB                0              32   \n",
       "5             789            L8        WB                8              42   \n",
       "6             32A            H3        NB                0              20   \n",
       "7             319            A4        NB                0              16   \n",
       "8             788            B8        WB                0              35   \n",
       "9             77W            G7        WB               14              56   \n",
       "10            744            S4        WB               14              86   \n",
       "11            343            W9        WB                0              45   \n",
       "12            388            A8        WB               14              97   \n",
       "13            777            L7        WB                0              48   \n",
       "14            321            V6        NB                0              38   \n",
       "15            744            V4        WB               14              52   \n",
       "16            777            P7        WB               17              48   \n",
       "17            321            W6        NB                0              42   \n",
       "18            777            V7        WB               14              48   \n",
       "19            777            W7        WB               12              48   \n",
       "\n",
       "    PREM_ECONOMY_SEATS_QTY  ECONOMY_SEATS_QTY  \n",
       "0                        0                132  \n",
       "1                       24                203  \n",
       "2                        0                150  \n",
       "3                        0                131  \n",
       "4                        0                172  \n",
       "5                       39                127  \n",
       "6                        0                150  \n",
       "7                        0                119  \n",
       "8                       25                154  \n",
       "9                       44                183  \n",
       "10                      30                145  \n",
       "11                       0                212  \n",
       "12                      55                303  \n",
       "13                      24                203  \n",
       "14                       0                160  \n",
       "15                      36                235  \n",
       "16                      24                127  \n",
       "17                       0                154  \n",
       "18                      40                124  \n",
       "19                      32                127  "
      ]
     },
     "execution_count": 16,
     "metadata": {},
     "output_type": "execute_result"
    }
   ],
   "source": [
    "df_acft_typ"
   ]
  },
  {
   "cell_type": "markdown",
   "metadata": {},
   "source": [
    "Merging df_country with route haul and business/leisure data from reference tables in ICW.\n",
    "\n",
    "They will be merged into df_lounge_eligibility for further analysis."
   ]
  },
  {
   "cell_type": "code",
   "execution_count": 25,
   "metadata": {},
   "outputs": [],
   "source": [
    "# A corporate_reference table just for flight numbers\n",
    "# and their descriptions.\n",
    "# To be matched on flight number and date (inner join probably)\n",
    "# Checked with TLV and AMM, both correct (LH, SH)\n",
    "query = \"\"\"\n",
    "\n",
    "select FM_FLT_NO, TO_FLT_NO, EFF_DT, EXP_DT, LONGHAUL_IND, SHORTHAUL_IND,\n",
    "DOMESTIC_IND, RANGE_DESC_TXT\n",
    "\n",
    "from CRT_FLIGHT_NO_RANGES\n",
    "\n",
    "WHERE CODESHARE_IND = 'N' AND FRANCHISE_IND = 'N' \n",
    "\n",
    "\"\"\"\n",
    "\n",
    "df_flt_no_ranges = icw.queryToDataframe(query)"
   ]
  },
  {
   "cell_type": "code",
   "execution_count": 26,
   "metadata": {},
   "outputs": [],
   "source": [
    "# For more granular details of route type, we can also use RevMan definitions.\n",
    "\n",
    "query = \"\"\"\n",
    "\n",
    "SELECT DEP_STN_CD, ARR_STN_CD, GCD_KM, REVMAN_HUB_TXT, \n",
    "REVMAN_AREA_TXT, ROUTE_CAT_TXT\n",
    "FROM REF_ROUTE\n",
    "\n",
    "WHERE DEP_STN_CD = 'LHR' AND REVMAN_HUB_TXT <> 'Unknown'\n",
    "\n",
    "\"\"\"\n",
    "\n",
    "df_route_categories = icw.queryToDataframe(query)"
   ]
  },
  {
   "cell_type": "markdown",
   "metadata": {},
   "source": [
    "<br>\n",
    "\n",
    "### Pre-processing"
   ]
  },
  {
   "cell_type": "markdown",
   "metadata": {},
   "source": [
    "*Hint:* It is always worth checking the format of each of the columns in your dataframes before trying to do any work with them. To do so, you can make use of the `headers_and_first_row` function below.\n"
   ]
  },
  {
   "cell_type": "code",
   "execution_count": 17,
   "metadata": {},
   "outputs": [],
   "source": [
    "def headers_and_first_row(df):\n",
    "    '''\n",
    "    print headers and first row of a df to deal with data types\n",
    "    '''\n",
    "    \n",
    "    headers = df.columns\n",
    "    first_row = []\n",
    "\n",
    "    for col in headers:\n",
    "        first_row.append(df[col][0])\n",
    "    \n",
    "    dictionary = dict( zip( headers, first_row) )\n",
    "\n",
    "    return dictionary"
   ]
  },
  {
   "cell_type": "code",
   "execution_count": 18,
   "metadata": {},
   "outputs": [],
   "source": [
    "# applying headers_and_first_row to df_lounge_eligibility\n",
    "format_df = headers_and_first_row(df_lounge_eligibility)\n",
    "format_2 = headers_and_first_row(df_flight_info)"
   ]
  },
  {
   "cell_type": "code",
   "execution_count": 19,
   "metadata": {},
   "outputs": [
    {
     "data": {
      "text/plain": [
       "{'GMT_PLND_DEP_TS': Timestamp('2019-09-04 06:45:00'),\n",
       " 'GMT_ACT_DEP_TS': Timestamp('2019-09-04 06:43:00'),\n",
       " 'OPG_ALN_CD': 'BA    ',\n",
       " 'OPG_FLT_NO': 1434,\n",
       " 'ACT_DEP_STN_CD': 'LHR   ',\n",
       " 'ACT_DEP_TML_CD': '5 ',\n",
       " 'PLND_ARR_STN_CD': 'EDI   ',\n",
       " 'ACT_ARR_STN_CD': 'EDI   ',\n",
       " 'IATA_AC_TYP_CD': '32Q   ',\n",
       " 'ACT_AC_TYP_CD': 'N6  ',\n",
       " 'ROUTE': 'LHREDI      '}"
      ]
     },
     "execution_count": 19,
     "metadata": {},
     "output_type": "execute_result"
    }
   ],
   "source": [
    "# Note that some columns have blank spaces!\n",
    "format_df\n",
    "format_2"
   ]
  },
  {
   "cell_type": "markdown",
   "metadata": {},
   "source": [
    "<br>\n",
    "<div class=\"alert alert-\" style = \"border-radius:10px;border-width:3px;border-color:lightblue;font-family:Verdana,sans-serif;font-size:16px;\">\n",
    "\n",
    "<font size=\"3\">**Exercise 1:** Pre-process **all** the tables above (df_lounge_eligibility, df_flight_info, df_country, df_acft_typ).\n",
    "\n",
    "</font>\n",
    "\n",
    "</ol>\n",
    "</div>"
   ]
  },
  {
   "cell_type": "markdown",
   "metadata": {},
   "source": [
    "We will first strip all frames of spaces. We will then go through each frame to properly prepare it.\n",
    "\n",
    "We will then load some additional datasets that will be useful for analysis."
   ]
  },
  {
   "cell_type": "code",
   "execution_count": 72,
   "metadata": {},
   "outputs": [],
   "source": [
    "# Stripping strings\n",
    "\n",
    "tables = [df_lounge_eligibility,df_flight_info,df_country,df_acft_typ,df_flt_no_ranges,df_route_categories]\n",
    "\n",
    "# Define a function that fine all string fields and remove all blak spaces\n",
    "def data_cleaning_string(df):\n",
    "    # Get names of all fields in a dataframe\n",
    "    fields = df.columns\n",
    "    # loop for all fields, if data type is string then remove blank spaces\n",
    "    for f in fields:\n",
    "        if type(df[f][0]) == str:\n",
    "            df[f] = df[f].str.strip()\n",
    "    return df\n",
    "\n",
    "for i,t in enumerate(tables):\n",
    "    tables[i] = data_cleaning_string(t)"
   ]
  },
  {
   "cell_type": "code",
   "execution_count": 21,
   "metadata": {},
   "outputs": [],
   "source": [
    "# 1. Lounge eligibility\n",
    "# Work out which lines are dummy.\n",
    "# Here we should probably use pandas pivot table to group each flight\n",
    "# into one row. Unless it is not needed for our analysis...\n"
   ]
  },
  {
   "cell_type": "code",
   "execution_count": 22,
   "metadata": {},
   "outputs": [],
   "source": [
    "# 2. Flight info\n",
    "# Ian's code to clean dataset - identify latest departure date for\n",
    "# duplicated flights and eliminate it.\n",
    "df_flight_info['GMT_PLND_DEP_DT'] = df_flight_info['GMT_PLND_DEP_TS'].dt.date\n",
    "df_flight_info['GMT_PLND_DEP_TIME'] = df_flight_info['GMT_PLND_DEP_TS'].dt.time"
   ]
  },
  {
   "cell_type": "code",
   "execution_count": 23,
   "metadata": {},
   "outputs": [],
   "source": [
    "# 3. Country\n",
    "df_country['DEP_STN_CD'] = df_country['ROUTE'].str.slice(0,3)\n",
    "df_country['ARR_STN_CD'] = df_country['ROUTE'].str.slice(3,6)\n"
   ]
  },
  {
   "cell_type": "code",
   "execution_count": 24,
   "metadata": {},
   "outputs": [
    {
     "data": {
      "text/html": [
       "<div>\n",
       "<style scoped>\n",
       "    .dataframe tbody tr th:only-of-type {\n",
       "        vertical-align: middle;\n",
       "    }\n",
       "\n",
       "    .dataframe tbody tr th {\n",
       "        vertical-align: top;\n",
       "    }\n",
       "\n",
       "    .dataframe thead th {\n",
       "        text-align: right;\n",
       "    }\n",
       "</style>\n",
       "<table border=\"1\" class=\"dataframe\">\n",
       "  <thead>\n",
       "    <tr style=\"text-align: right;\">\n",
       "      <th></th>\n",
       "      <th>IATA_AC_TYP_CD</th>\n",
       "      <th>ACT_AC_TYP_CD</th>\n",
       "      <th>WB_NB_CAT</th>\n",
       "      <th>FIRST_SEATS_QTY</th>\n",
       "      <th>CLUB_SEATS_QTY</th>\n",
       "      <th>PREM_ECONOMY_SEATS_QTY</th>\n",
       "      <th>ECONOMY_SEATS_QTY</th>\n",
       "    </tr>\n",
       "  </thead>\n",
       "  <tbody>\n",
       "    <tr>\n",
       "      <th>11</th>\n",
       "      <td>343</td>\n",
       "      <td>W9</td>\n",
       "      <td>WB</td>\n",
       "      <td>0</td>\n",
       "      <td>45</td>\n",
       "      <td>0</td>\n",
       "      <td>212</td>\n",
       "    </tr>\n",
       "    <tr>\n",
       "      <th>13</th>\n",
       "      <td>777</td>\n",
       "      <td>L7</td>\n",
       "      <td>WB</td>\n",
       "      <td>0</td>\n",
       "      <td>48</td>\n",
       "      <td>24</td>\n",
       "      <td>203</td>\n",
       "    </tr>\n",
       "    <tr>\n",
       "      <th>5</th>\n",
       "      <td>789</td>\n",
       "      <td>L8</td>\n",
       "      <td>WB</td>\n",
       "      <td>8</td>\n",
       "      <td>42</td>\n",
       "      <td>39</td>\n",
       "      <td>127</td>\n",
       "    </tr>\n",
       "    <tr>\n",
       "      <th>19</th>\n",
       "      <td>777</td>\n",
       "      <td>W7</td>\n",
       "      <td>WB</td>\n",
       "      <td>12</td>\n",
       "      <td>48</td>\n",
       "      <td>32</td>\n",
       "      <td>127</td>\n",
       "    </tr>\n",
       "    <tr>\n",
       "      <th>10</th>\n",
       "      <td>744</td>\n",
       "      <td>S4</td>\n",
       "      <td>WB</td>\n",
       "      <td>14</td>\n",
       "      <td>86</td>\n",
       "      <td>30</td>\n",
       "      <td>145</td>\n",
       "    </tr>\n",
       "    <tr>\n",
       "      <th>15</th>\n",
       "      <td>744</td>\n",
       "      <td>V4</td>\n",
       "      <td>WB</td>\n",
       "      <td>14</td>\n",
       "      <td>52</td>\n",
       "      <td>36</td>\n",
       "      <td>235</td>\n",
       "    </tr>\n",
       "    <tr>\n",
       "      <th>18</th>\n",
       "      <td>777</td>\n",
       "      <td>V7</td>\n",
       "      <td>WB</td>\n",
       "      <td>14</td>\n",
       "      <td>48</td>\n",
       "      <td>40</td>\n",
       "      <td>124</td>\n",
       "    </tr>\n",
       "    <tr>\n",
       "      <th>12</th>\n",
       "      <td>388</td>\n",
       "      <td>A8</td>\n",
       "      <td>WB</td>\n",
       "      <td>14</td>\n",
       "      <td>97</td>\n",
       "      <td>55</td>\n",
       "      <td>303</td>\n",
       "    </tr>\n",
       "    <tr>\n",
       "      <th>9</th>\n",
       "      <td>77W</td>\n",
       "      <td>G7</td>\n",
       "      <td>WB</td>\n",
       "      <td>14</td>\n",
       "      <td>56</td>\n",
       "      <td>44</td>\n",
       "      <td>183</td>\n",
       "    </tr>\n",
       "    <tr>\n",
       "      <th>16</th>\n",
       "      <td>777</td>\n",
       "      <td>P7</td>\n",
       "      <td>WB</td>\n",
       "      <td>17</td>\n",
       "      <td>48</td>\n",
       "      <td>24</td>\n",
       "      <td>127</td>\n",
       "    </tr>\n",
       "  </tbody>\n",
       "</table>\n",
       "</div>"
      ],
      "text/plain": [
       "   IATA_AC_TYP_CD ACT_AC_TYP_CD WB_NB_CAT  FIRST_SEATS_QTY  CLUB_SEATS_QTY  \\\n",
       "11            343            W9        WB                0              45   \n",
       "13            777            L7        WB                0              48   \n",
       "5             789            L8        WB                8              42   \n",
       "19            777            W7        WB               12              48   \n",
       "10            744            S4        WB               14              86   \n",
       "15            744            V4        WB               14              52   \n",
       "18            777            V7        WB               14              48   \n",
       "12            388            A8        WB               14              97   \n",
       "9             77W            G7        WB               14              56   \n",
       "16            777            P7        WB               17              48   \n",
       "\n",
       "    PREM_ECONOMY_SEATS_QTY  ECONOMY_SEATS_QTY  \n",
       "11                       0                212  \n",
       "13                      24                203  \n",
       "5                       39                127  \n",
       "19                      32                127  \n",
       "10                      30                145  \n",
       "15                      36                235  \n",
       "18                      40                124  \n",
       "12                      55                303  \n",
       "9                       44                183  \n",
       "16                      24                127  "
      ]
     },
     "execution_count": 24,
     "metadata": {},
     "output_type": "execute_result"
    }
   ],
   "source": [
    "# 4. Aircraft type\n",
    "df_acft_typ.sort_values('FIRST_SEATS_QTY').tail(10)"
   ]
  },
  {
   "cell_type": "code",
   "execution_count": 70,
   "metadata": {},
   "outputs": [
    {
     "ename": "AttributeError",
     "evalue": "'list' object has no attribute 'columns'",
     "output_type": "error",
     "traceback": [
      "\u001b[1;31m---------------------------------------------------------------------------\u001b[0m",
      "\u001b[1;31mAttributeError\u001b[0m                            Traceback (most recent call last)",
      "\u001b[1;32m<ipython-input-70-c52afa6d5a27>\u001b[0m in \u001b[0;36m<module>\u001b[1;34m()\u001b[0m\n\u001b[0;32m      1\u001b[0m \u001b[1;31m# clean data\u001b[0m\u001b[1;33m\u001b[0m\u001b[1;33m\u001b[0m\u001b[0m\n\u001b[1;32m----> 2\u001b[1;33m \u001b[0mdata_cleaning_string\u001b[0m\u001b[1;33m(\u001b[0m\u001b[1;33m[\u001b[0m\u001b[0mdf_flt_no_ranges\u001b[0m\u001b[1;33m,\u001b[0m \u001b[0mdf_route_categories\u001b[0m\u001b[1;33m]\u001b[0m\u001b[1;33m)\u001b[0m\u001b[1;33m\u001b[0m\u001b[0m\n\u001b[0m",
      "\u001b[1;32m<ipython-input-20-127fa926c5fa>\u001b[0m in \u001b[0;36mdata_cleaning_string\u001b[1;34m(df)\u001b[0m\n\u001b[0;32m      6\u001b[0m \u001b[1;32mdef\u001b[0m \u001b[0mdata_cleaning_string\u001b[0m\u001b[1;33m(\u001b[0m\u001b[0mdf\u001b[0m\u001b[1;33m)\u001b[0m\u001b[1;33m:\u001b[0m\u001b[1;33m\u001b[0m\u001b[0m\n\u001b[0;32m      7\u001b[0m     \u001b[1;31m# Get names of all fields in a dataframe\u001b[0m\u001b[1;33m\u001b[0m\u001b[1;33m\u001b[0m\u001b[0m\n\u001b[1;32m----> 8\u001b[1;33m     \u001b[0mfields\u001b[0m \u001b[1;33m=\u001b[0m \u001b[0mdf\u001b[0m\u001b[1;33m.\u001b[0m\u001b[0mcolumns\u001b[0m\u001b[1;33m\u001b[0m\u001b[0m\n\u001b[0m\u001b[0;32m      9\u001b[0m     \u001b[1;31m# loop for all fields, if data type is string then remove blank spaces\u001b[0m\u001b[1;33m\u001b[0m\u001b[1;33m\u001b[0m\u001b[0m\n\u001b[0;32m     10\u001b[0m     \u001b[1;32mfor\u001b[0m \u001b[0mf\u001b[0m \u001b[1;32min\u001b[0m \u001b[0mfields\u001b[0m\u001b[1;33m:\u001b[0m\u001b[1;33m\u001b[0m\u001b[0m\n",
      "\u001b[1;31mAttributeError\u001b[0m: 'list' object has no attribute 'columns'"
     ]
    }
   ],
   "source": []
  },
  {
   "cell_type": "code",
   "execution_count": 45,
   "metadata": {},
   "outputs": [],
   "source": [
    "# Joining flight_no_ranges with lounge eligibility\n",
    "df_merged_a = pd.merge(df_lounge_eligibility,df_flt_no_ranges,how='inner',\n",
    "                      left_on=['OPERATING_FLT_NO'],right_on=['FM_FLT_NO'])\n",
    "df_merged_a = df_merged_a[(df_merged_a['GMT_UPLIFT_DT'] >= df_merged_a['EFF_DT'])&\n",
    "                    (df_merged_a['GMT_UPLIFT_DT']<=df_merged_a['EXP_DT'])]\n",
    "df_merged_a.drop(['FM_FLT_NO','TO_FLT_NO','EFF_DT','EXP_DT'],axis=1,inplace=True)"
   ]
  },
  {
   "cell_type": "code",
   "execution_count": 46,
   "metadata": {},
   "outputs": [
    {
     "data": {
      "text/html": [
       "<div>\n",
       "<style scoped>\n",
       "    .dataframe tbody tr th:only-of-type {\n",
       "        vertical-align: middle;\n",
       "    }\n",
       "\n",
       "    .dataframe tbody tr th {\n",
       "        vertical-align: top;\n",
       "    }\n",
       "\n",
       "    .dataframe thead th {\n",
       "        text-align: right;\n",
       "    }\n",
       "</style>\n",
       "<table border=\"1\" class=\"dataframe\">\n",
       "  <thead>\n",
       "    <tr style=\"text-align: right;\">\n",
       "      <th></th>\n",
       "      <th>Skew_Id</th>\n",
       "      <th>OPERATING_AIRLINE_CD</th>\n",
       "      <th>OPERATING_FLT_NO</th>\n",
       "      <th>GMT_UPLIFT_DT</th>\n",
       "      <th>UPLIFT_STN_CD</th>\n",
       "      <th>DISCHARGE_STN_CD</th>\n",
       "      <th>BOOKED_CABIN_CD</th>\n",
       "      <th>TRAVEL_CABIN_CD</th>\n",
       "      <th>BA_PAX_TIER</th>\n",
       "      <th>ONEWORLD_TIER</th>\n",
       "      <th>Lounge_eligibility_tier</th>\n",
       "      <th>pax</th>\n",
       "      <th>LONGHAUL_IND</th>\n",
       "      <th>SHORTHAUL_IND</th>\n",
       "      <th>DOMESTIC_IND</th>\n",
       "      <th>RANGE_DESC_TXT</th>\n",
       "    </tr>\n",
       "  </thead>\n",
       "  <tbody>\n",
       "    <tr>\n",
       "      <th>2597</th>\n",
       "      <td>2019-03-315</td>\n",
       "      <td>BA</td>\n",
       "      <td>5</td>\n",
       "      <td>2019-03-31</td>\n",
       "      <td>LHR</td>\n",
       "      <td>NRT</td>\n",
       "      <td>M</td>\n",
       "      <td>W</td>\n",
       "      <td></td>\n",
       "      <td></td>\n",
       "      <td>Not eligible</td>\n",
       "      <td>2</td>\n",
       "      <td>Y</td>\n",
       "      <td>N</td>\n",
       "      <td>N</td>\n",
       "      <td>BA LHR Longhaul</td>\n",
       "    </tr>\n",
       "    <tr>\n",
       "      <th>2583</th>\n",
       "      <td>2019-03-315</td>\n",
       "      <td>BA</td>\n",
       "      <td>5</td>\n",
       "      <td>2019-03-31</td>\n",
       "      <td>LHR</td>\n",
       "      <td>NRT</td>\n",
       "      <td>F</td>\n",
       "      <td>F</td>\n",
       "      <td></td>\n",
       "      <td></td>\n",
       "      <td>Tier 1</td>\n",
       "      <td>3</td>\n",
       "      <td>Y</td>\n",
       "      <td>N</td>\n",
       "      <td>N</td>\n",
       "      <td>BA LHR Longhaul</td>\n",
       "    </tr>\n",
       "  </tbody>\n",
       "</table>\n",
       "</div>"
      ],
      "text/plain": [
       "          Skew_Id OPERATING_AIRLINE_CD  OPERATING_FLT_NO GMT_UPLIFT_DT  \\\n",
       "2597  2019-03-315                   BA                 5    2019-03-31   \n",
       "2583  2019-03-315                   BA                 5    2019-03-31   \n",
       "\n",
       "     UPLIFT_STN_CD DISCHARGE_STN_CD BOOKED_CABIN_CD TRAVEL_CABIN_CD  \\\n",
       "2597           LHR              NRT               M               W   \n",
       "2583           LHR              NRT               F               F   \n",
       "\n",
       "     BA_PAX_TIER ONEWORLD_TIER Lounge_eligibility_tier  pax LONGHAUL_IND  \\\n",
       "2597                                      Not eligible    2           Y    \n",
       "2583                                            Tier 1    3           Y    \n",
       "\n",
       "     SHORTHAUL_IND DOMESTIC_IND   RANGE_DESC_TXT  \n",
       "2597            N            N   BA LHR Longhaul  \n",
       "2583            N            N   BA LHR Longhaul  "
      ]
     },
     "execution_count": 46,
     "metadata": {},
     "output_type": "execute_result"
    }
   ],
   "source": [
    "df_merged_a.sort_values(['Skew_Id']).head(2)\n",
    "# success"
   ]
  },
  {
   "cell_type": "code",
   "execution_count": 75,
   "metadata": {},
   "outputs": [],
   "source": [
    "df_merged_b = pd.merge(df_merged_a,df_route_categories,\n",
    "                      left_on=['UPLIFT_STN_CD','DISCHARGE_STN_CD'],\n",
    "                      right_on=['DEP_STN_CD','ARR_STN_CD'],\n",
    "                      how='left')"
   ]
  },
  {
   "cell_type": "code",
   "execution_count": 76,
   "metadata": {},
   "outputs": [
    {
     "data": {
      "text/html": [
       "<div>\n",
       "<style scoped>\n",
       "    .dataframe tbody tr th:only-of-type {\n",
       "        vertical-align: middle;\n",
       "    }\n",
       "\n",
       "    .dataframe tbody tr th {\n",
       "        vertical-align: top;\n",
       "    }\n",
       "\n",
       "    .dataframe thead th {\n",
       "        text-align: right;\n",
       "    }\n",
       "</style>\n",
       "<table border=\"1\" class=\"dataframe\">\n",
       "  <thead>\n",
       "    <tr style=\"text-align: right;\">\n",
       "      <th></th>\n",
       "      <th>Skew_Id</th>\n",
       "      <th>OPERATING_AIRLINE_CD</th>\n",
       "      <th>OPERATING_FLT_NO</th>\n",
       "      <th>GMT_UPLIFT_DT</th>\n",
       "      <th>UPLIFT_STN_CD</th>\n",
       "      <th>DISCHARGE_STN_CD</th>\n",
       "      <th>BOOKED_CABIN_CD</th>\n",
       "      <th>TRAVEL_CABIN_CD</th>\n",
       "      <th>BA_PAX_TIER</th>\n",
       "      <th>ONEWORLD_TIER</th>\n",
       "      <th>Lounge_eligibility_tier</th>\n",
       "      <th>pax</th>\n",
       "      <th>LONGHAUL_IND</th>\n",
       "      <th>SHORTHAUL_IND</th>\n",
       "      <th>DOMESTIC_IND</th>\n",
       "      <th>RANGE_DESC_TXT</th>\n",
       "      <th>DEP_STN_CD</th>\n",
       "      <th>ARR_STN_CD</th>\n",
       "      <th>GCD_KM</th>\n",
       "      <th>REVMAN_HUB_TXT</th>\n",
       "      <th>REVMAN_AREA_TXT</th>\n",
       "      <th>ROUTE_CAT_TXT</th>\n",
       "    </tr>\n",
       "  </thead>\n",
       "  <tbody>\n",
       "    <tr>\n",
       "      <th>0</th>\n",
       "      <td>2019-05-185</td>\n",
       "      <td>BA</td>\n",
       "      <td>5</td>\n",
       "      <td>2019-05-18</td>\n",
       "      <td>LHR</td>\n",
       "      <td>NRT</td>\n",
       "      <td>J</td>\n",
       "      <td>J</td>\n",
       "      <td>Silver</td>\n",
       "      <td>SAPP</td>\n",
       "      <td>Tier 3</td>\n",
       "      <td>6</td>\n",
       "      <td>Y</td>\n",
       "      <td>N</td>\n",
       "      <td>N</td>\n",
       "      <td>BA LHR Longhaul</td>\n",
       "      <td>LHR</td>\n",
       "      <td>NRT</td>\n",
       "      <td>9614</td>\n",
       "      <td>BA LHR/LCY</td>\n",
       "      <td>ROW</td>\n",
       "      <td>APAC</td>\n",
       "    </tr>\n",
       "    <tr>\n",
       "      <th>1</th>\n",
       "      <td>2019-07-105</td>\n",
       "      <td>BA</td>\n",
       "      <td>5</td>\n",
       "      <td>2019-07-10</td>\n",
       "      <td>LHR</td>\n",
       "      <td>NRT</td>\n",
       "      <td>M</td>\n",
       "      <td>W</td>\n",
       "      <td></td>\n",
       "      <td></td>\n",
       "      <td>Not eligible</td>\n",
       "      <td>5</td>\n",
       "      <td>Y</td>\n",
       "      <td>N</td>\n",
       "      <td>N</td>\n",
       "      <td>BA LHR Longhaul</td>\n",
       "      <td>LHR</td>\n",
       "      <td>NRT</td>\n",
       "      <td>9614</td>\n",
       "      <td>BA LHR/LCY</td>\n",
       "      <td>ROW</td>\n",
       "      <td>APAC</td>\n",
       "    </tr>\n",
       "  </tbody>\n",
       "</table>\n",
       "</div>"
      ],
      "text/plain": [
       "       Skew_Id OPERATING_AIRLINE_CD  OPERATING_FLT_NO GMT_UPLIFT_DT  \\\n",
       "0  2019-05-185                   BA                 5    2019-05-18   \n",
       "1  2019-07-105                   BA                 5    2019-07-10   \n",
       "\n",
       "  UPLIFT_STN_CD DISCHARGE_STN_CD BOOKED_CABIN_CD TRAVEL_CABIN_CD BA_PAX_TIER  \\\n",
       "0           LHR              NRT               J               J      Silver   \n",
       "1           LHR              NRT               M               W               \n",
       "\n",
       "  ONEWORLD_TIER Lounge_eligibility_tier  pax LONGHAUL_IND SHORTHAUL_IND  \\\n",
       "0          SAPP                  Tier 3    6           Y             N    \n",
       "1                          Not eligible    5           Y             N    \n",
       "\n",
       "  DOMESTIC_IND   RANGE_DESC_TXT DEP_STN_CD ARR_STN_CD  GCD_KM REVMAN_HUB_TXT  \\\n",
       "0           N   BA LHR Longhaul        LHR        NRT    9614     BA LHR/LCY   \n",
       "1           N   BA LHR Longhaul        LHR        NRT    9614     BA LHR/LCY   \n",
       "\n",
       "  REVMAN_AREA_TXT ROUTE_CAT_TXT  \n",
       "0             ROW          APAC  \n",
       "1             ROW          APAC  "
      ]
     },
     "execution_count": 76,
     "metadata": {},
     "output_type": "execute_result"
    }
   ],
   "source": [
    "# check for success\n",
    "df_merged_b.head(2)"
   ]
  },
  {
   "cell_type": "markdown",
   "metadata": {},
   "source": [
    "<br>\n",
    "<div class=\"alert alert-\" style = \"border-radius:10px;border-width:3px;border-color:lightblue;font-family:Verdana,sans-serif;font-size:16px;\">\n",
    "\n",
    "<font size=\"3\">**Exercise 2:** Join the tables below\n",
    "   \n",
    "    - df_flight_info\n",
    "    - df_country\n",
    "    - df_acft_typ\n",
    "    \n",
    "to the table df_lounge_eligibility to generate a final dataset.\n",
    "\n",
    "</font>\n",
    "\n",
    "</ol>\n",
    "</div>"
   ]
  },
  {
   "cell_type": "markdown",
   "metadata": {},
   "source": [
    "PLUS for us, join df_flight_no_ranges and df_route_categories."
   ]
  },
  {
   "cell_type": "code",
   "execution_count": null,
   "metadata": {},
   "outputs": [],
   "source": [
    "# Example\n",
    "\n",
    "# joining df_lounge_eligibility and df_flight_info\n",
    "\n",
    "df_lounge_elig_flight_info = pd.merge(df_lounge_eligibility,# left table\n",
    "                                     df_flight_info, # right table\n",
    "                                     left_on = , # left on? e.g. which columns from the left table are you joining on to?\n",
    "                                     right_on = , # right on? # left on? e.g. which columns from the right table are you joining on to?\n",
    "                                     how = \"left\" # how? e.g. left, right, inner,etc\n",
    "                                     )"
   ]
  },
  {
   "cell_type": "code",
   "execution_count": 28,
   "metadata": {},
   "outputs": [],
   "source": [
    "# your code here!"
   ]
  },
  {
   "cell_type": "markdown",
   "metadata": {},
   "source": [
    "<br><br>\n",
    "<div class=\"alert alert-\" style = \"border-radius:10px;border-width:3px;border-color:lightblue;font-family:Verdana,sans-serif;font-size:16px;\">\n",
    "\n",
    "<font size=\"3\">Exercise 3: Based on S2019/S2023 data, provide a lookup table of Lounge eligibility assumptions that can be applied to a future schedule. To do so, answer each of the following questions in the Markdown cell provided below. \n",
    "\n",
    "- What level of granularity do you use?\n",
    "- What metric do you use to come up with Lounge eligibility profiles?\n",
    "\n",
    "    \n",
    "Note 1: **Provide evidence for your assumptions.** This can be in the form of tables, graphs, correlation matrix, etc.\n",
    "    \n",
    "Note 2: Make use of the examples below to give structure to your answer. Feel free to attend the Hackathon Clinics if you have any questions. \n",
    "</font>\n",
    "\n",
    "\n",
    "    \n",
    "</ol>\n",
    "</div>"
   ]
  },
  {
   "cell_type": "markdown",
   "metadata": {},
   "source": [
    "**Reasoning (Example 1)**:\n"
   ]
  },
  {
   "cell_type": "markdown",
   "metadata": {},
   "source": [
    "Assume:\n",
    "- Data has been preprocessed.\n",
    "- Data has been joined, and a final dataset has been created. This dataset is the result of joining the 4 tables.\n",
    "\n",
    "The final dataset has been called `df_lounge_elig_flight_info_country_acft_typ`."
   ]
  },
  {
   "cell_type": "markdown",
   "metadata": {},
   "source": [
    "<u>What level of granularity do you use?</u>\n",
    "- I have decided to split all flights in the network based on their aircraft type. I will therefore have a lookup table with two categories: Narrowbody and Widebody. \n",
    "\n",
    "<u>What metric do you use to come up with Lounge eligibility profiles?</u>\n",
    "- I have sumed up all the passengers by Aircraft Type, by Tier. Then I have divided them by the total number of passengers by Aircraft Type. For example:\n",
    "    - For NB aircrafts, and for Tier 1 passengers: In S19 we had 41,728 pax eligible for Tier 1 out of 7,222,830 pax flying on Narrowbody aircraft. This represents 0.6% of the costumers and I assume that this will be the number of costumers elegible for this specific Lounge in a future schedule.   "
   ]
  },
  {
   "cell_type": "code",
   "execution_count": 60,
   "metadata": {},
   "outputs": [],
   "source": [
    "# your code here!"
   ]
  },
  {
   "cell_type": "code",
   "execution_count": 61,
   "metadata": {},
   "outputs": [],
   "source": [
    "# columns that you want to group by\n",
    "list_groupby = ['WB_NB_CAT','Lounge_eligibility_tier']\n",
    "\n",
    "# grouping by WB_NB_CAT and Lounge_eligibility_tier\n",
    "df_groupby_wb_nb = df_lounge_elig_flight_info_country_acft_typ.groupby(list_groupby).agg(\n",
    "                pax_count = ('pax','sum')\n",
    ").reset_index()"
   ]
  },
  {
   "cell_type": "code",
   "execution_count": 62,
   "metadata": {},
   "outputs": [
    {
     "data": {
      "text/html": [
       "<div>\n",
       "<style scoped>\n",
       "    .dataframe tbody tr th:only-of-type {\n",
       "        vertical-align: middle;\n",
       "    }\n",
       "\n",
       "    .dataframe tbody tr th {\n",
       "        vertical-align: top;\n",
       "    }\n",
       "\n",
       "    .dataframe thead th {\n",
       "        text-align: right;\n",
       "    }\n",
       "</style>\n",
       "<table border=\"1\" class=\"dataframe\">\n",
       "  <thead>\n",
       "    <tr style=\"text-align: right;\">\n",
       "      <th></th>\n",
       "      <th>WB_NB_CAT</th>\n",
       "      <th>Lounge_eligibility_tier</th>\n",
       "      <th>pax_count</th>\n",
       "    </tr>\n",
       "  </thead>\n",
       "  <tbody>\n",
       "    <tr>\n",
       "      <th>0</th>\n",
       "      <td>NB</td>\n",
       "      <td>Not eligible</td>\n",
       "      <td>5254338</td>\n",
       "    </tr>\n",
       "    <tr>\n",
       "      <th>1</th>\n",
       "      <td>NB</td>\n",
       "      <td>Tier 1</td>\n",
       "      <td>41728</td>\n",
       "    </tr>\n",
       "    <tr>\n",
       "      <th>2</th>\n",
       "      <td>NB</td>\n",
       "      <td>Tier 2</td>\n",
       "      <td>507654</td>\n",
       "    </tr>\n",
       "    <tr>\n",
       "      <th>3</th>\n",
       "      <td>NB</td>\n",
       "      <td>Tier 3</td>\n",
       "      <td>1419110</td>\n",
       "    </tr>\n",
       "    <tr>\n",
       "      <th>4</th>\n",
       "      <td>WB</td>\n",
       "      <td>Not eligible</td>\n",
       "      <td>3247830</td>\n",
       "    </tr>\n",
       "    <tr>\n",
       "      <th>5</th>\n",
       "      <td>WB</td>\n",
       "      <td>Tier 1</td>\n",
       "      <td>212870</td>\n",
       "    </tr>\n",
       "    <tr>\n",
       "      <th>6</th>\n",
       "      <td>WB</td>\n",
       "      <td>Tier 2</td>\n",
       "      <td>266063</td>\n",
       "    </tr>\n",
       "    <tr>\n",
       "      <th>7</th>\n",
       "      <td>WB</td>\n",
       "      <td>Tier 3</td>\n",
       "      <td>1027270</td>\n",
       "    </tr>\n",
       "  </tbody>\n",
       "</table>\n",
       "</div>"
      ],
      "text/plain": [
       "  WB_NB_CAT Lounge_eligibility_tier  pax_count\n",
       "0        NB            Not eligible    5254338\n",
       "1        NB                  Tier 1      41728\n",
       "2        NB                  Tier 2     507654\n",
       "3        NB                  Tier 3    1419110\n",
       "4        WB            Not eligible    3247830\n",
       "5        WB                  Tier 1     212870\n",
       "6        WB                  Tier 2     266063\n",
       "7        WB                  Tier 3    1027270"
      ]
     },
     "execution_count": 62,
     "metadata": {},
     "output_type": "execute_result"
    }
   ],
   "source": [
    "# a look at the data\n",
    "df_groupby_wb_nb"
   ]
  },
  {
   "cell_type": "code",
   "execution_count": 63,
   "metadata": {},
   "outputs": [],
   "source": [
    "# getting the number of pax by aircraft type\n",
    "\n",
    "# columns that you want to group by\n",
    "list_groupby = ['WB_NB_CAT']\n",
    "\n",
    "# grouping by WB_NB_CAT\n",
    "df_groupby_wb_nb_ttl = df_lounge_elig_flight_info_country_acft_typ.groupby(list_groupby).agg(\n",
    "                pax_count_ttl = ('pax','sum')\n",
    ").reset_index()"
   ]
  },
  {
   "cell_type": "code",
   "execution_count": 64,
   "metadata": {},
   "outputs": [
    {
     "data": {
      "text/html": [
       "<div>\n",
       "<style scoped>\n",
       "    .dataframe tbody tr th:only-of-type {\n",
       "        vertical-align: middle;\n",
       "    }\n",
       "\n",
       "    .dataframe tbody tr th {\n",
       "        vertical-align: top;\n",
       "    }\n",
       "\n",
       "    .dataframe thead th {\n",
       "        text-align: right;\n",
       "    }\n",
       "</style>\n",
       "<table border=\"1\" class=\"dataframe\">\n",
       "  <thead>\n",
       "    <tr style=\"text-align: right;\">\n",
       "      <th></th>\n",
       "      <th>WB_NB_CAT</th>\n",
       "      <th>pax_count_ttl</th>\n",
       "    </tr>\n",
       "  </thead>\n",
       "  <tbody>\n",
       "    <tr>\n",
       "      <th>0</th>\n",
       "      <td>NB</td>\n",
       "      <td>7222830</td>\n",
       "    </tr>\n",
       "    <tr>\n",
       "      <th>1</th>\n",
       "      <td>WB</td>\n",
       "      <td>4754033</td>\n",
       "    </tr>\n",
       "  </tbody>\n",
       "</table>\n",
       "</div>"
      ],
      "text/plain": [
       "  WB_NB_CAT  pax_count_ttl\n",
       "0        NB        7222830\n",
       "1        WB        4754033"
      ]
     },
     "execution_count": 64,
     "metadata": {},
     "output_type": "execute_result"
    }
   ],
   "source": [
    "# a look at the data\n",
    "df_groupby_wb_nb_ttl"
   ]
  },
  {
   "cell_type": "code",
   "execution_count": 65,
   "metadata": {},
   "outputs": [],
   "source": [
    "# now, let's left join df_groupby_wb_nb_ttl onto df_groupby_wb_nb\n",
    "# this adds a new column to the df_groupby_wb_nb table (pax_count_ttl) that will be used to get the percentage of passenger eligible by Tier\n",
    "\n",
    "df_groupby_wb_nb = pd.merge(df_groupby_wb_nb,\n",
    "                            df_groupby_wb_nb_ttl,\n",
    "                            on = ['WB_NB_CAT'],\n",
    "                            how = 'left'\n",
    "                           )"
   ]
  },
  {
   "cell_type": "code",
   "execution_count": 66,
   "metadata": {},
   "outputs": [
    {
     "data": {
      "text/html": [
       "<div>\n",
       "<style scoped>\n",
       "    .dataframe tbody tr th:only-of-type {\n",
       "        vertical-align: middle;\n",
       "    }\n",
       "\n",
       "    .dataframe tbody tr th {\n",
       "        vertical-align: top;\n",
       "    }\n",
       "\n",
       "    .dataframe thead th {\n",
       "        text-align: right;\n",
       "    }\n",
       "</style>\n",
       "<table border=\"1\" class=\"dataframe\">\n",
       "  <thead>\n",
       "    <tr style=\"text-align: right;\">\n",
       "      <th></th>\n",
       "      <th>WB_NB_CAT</th>\n",
       "      <th>Lounge_eligibility_tier</th>\n",
       "      <th>pax_count</th>\n",
       "      <th>pax_count_ttl</th>\n",
       "    </tr>\n",
       "  </thead>\n",
       "  <tbody>\n",
       "    <tr>\n",
       "      <th>0</th>\n",
       "      <td>NB</td>\n",
       "      <td>Not eligible</td>\n",
       "      <td>5254338</td>\n",
       "      <td>7222830</td>\n",
       "    </tr>\n",
       "    <tr>\n",
       "      <th>1</th>\n",
       "      <td>NB</td>\n",
       "      <td>Tier 1</td>\n",
       "      <td>41728</td>\n",
       "      <td>7222830</td>\n",
       "    </tr>\n",
       "    <tr>\n",
       "      <th>2</th>\n",
       "      <td>NB</td>\n",
       "      <td>Tier 2</td>\n",
       "      <td>507654</td>\n",
       "      <td>7222830</td>\n",
       "    </tr>\n",
       "    <tr>\n",
       "      <th>3</th>\n",
       "      <td>NB</td>\n",
       "      <td>Tier 3</td>\n",
       "      <td>1419110</td>\n",
       "      <td>7222830</td>\n",
       "    </tr>\n",
       "    <tr>\n",
       "      <th>4</th>\n",
       "      <td>WB</td>\n",
       "      <td>Not eligible</td>\n",
       "      <td>3247830</td>\n",
       "      <td>4754033</td>\n",
       "    </tr>\n",
       "    <tr>\n",
       "      <th>5</th>\n",
       "      <td>WB</td>\n",
       "      <td>Tier 1</td>\n",
       "      <td>212870</td>\n",
       "      <td>4754033</td>\n",
       "    </tr>\n",
       "    <tr>\n",
       "      <th>6</th>\n",
       "      <td>WB</td>\n",
       "      <td>Tier 2</td>\n",
       "      <td>266063</td>\n",
       "      <td>4754033</td>\n",
       "    </tr>\n",
       "    <tr>\n",
       "      <th>7</th>\n",
       "      <td>WB</td>\n",
       "      <td>Tier 3</td>\n",
       "      <td>1027270</td>\n",
       "      <td>4754033</td>\n",
       "    </tr>\n",
       "  </tbody>\n",
       "</table>\n",
       "</div>"
      ],
      "text/plain": [
       "  WB_NB_CAT Lounge_eligibility_tier  pax_count  pax_count_ttl\n",
       "0        NB            Not eligible    5254338        7222830\n",
       "1        NB                  Tier 1      41728        7222830\n",
       "2        NB                  Tier 2     507654        7222830\n",
       "3        NB                  Tier 3    1419110        7222830\n",
       "4        WB            Not eligible    3247830        4754033\n",
       "5        WB                  Tier 1     212870        4754033\n",
       "6        WB                  Tier 2     266063        4754033\n",
       "7        WB                  Tier 3    1027270        4754033"
      ]
     },
     "execution_count": 66,
     "metadata": {},
     "output_type": "execute_result"
    }
   ],
   "source": [
    "# a look at the data\n",
    "df_groupby_wb_nb"
   ]
  },
  {
   "cell_type": "code",
   "execution_count": 67,
   "metadata": {},
   "outputs": [],
   "source": [
    "# getting the percentage of pax elegible for each of the Tiers\n",
    "\n",
    "df_groupby_wb_nb['pax_eligible%'] = (df_groupby_wb_nb['pax_count'] / df_groupby_wb_nb['pax_count_ttl'] )*100 \n",
    "\n",
    "# getting the pax_elegible% column in the right format\n",
    "df_groupby_wb_nb['pax_eligible%'] = df_groupby_wb_nb['pax_eligible%'].map('{:,.1f}%'.format)"
   ]
  },
  {
   "cell_type": "code",
   "execution_count": 68,
   "metadata": {},
   "outputs": [],
   "source": [
    "# dropping pax_count, pax_count_ttl columns - not needed anymore\n",
    "df_groupby_wb_nb.drop(columns=['pax_count','pax_count_ttl'],inplace = True)"
   ]
  },
  {
   "cell_type": "code",
   "execution_count": 69,
   "metadata": {},
   "outputs": [
    {
     "data": {
      "text/html": [
       "<div>\n",
       "<style scoped>\n",
       "    .dataframe tbody tr th:only-of-type {\n",
       "        vertical-align: middle;\n",
       "    }\n",
       "\n",
       "    .dataframe tbody tr th {\n",
       "        vertical-align: top;\n",
       "    }\n",
       "\n",
       "    .dataframe thead th {\n",
       "        text-align: right;\n",
       "    }\n",
       "</style>\n",
       "<table border=\"1\" class=\"dataframe\">\n",
       "  <thead>\n",
       "    <tr style=\"text-align: right;\">\n",
       "      <th></th>\n",
       "      <th>WB_NB_CAT</th>\n",
       "      <th>Lounge_eligibility_tier</th>\n",
       "      <th>pax_eligible%</th>\n",
       "    </tr>\n",
       "  </thead>\n",
       "  <tbody>\n",
       "    <tr>\n",
       "      <th>0</th>\n",
       "      <td>NB</td>\n",
       "      <td>Not eligible</td>\n",
       "      <td>72.7%</td>\n",
       "    </tr>\n",
       "    <tr>\n",
       "      <th>1</th>\n",
       "      <td>NB</td>\n",
       "      <td>Tier 1</td>\n",
       "      <td>0.6%</td>\n",
       "    </tr>\n",
       "    <tr>\n",
       "      <th>2</th>\n",
       "      <td>NB</td>\n",
       "      <td>Tier 2</td>\n",
       "      <td>7.0%</td>\n",
       "    </tr>\n",
       "    <tr>\n",
       "      <th>3</th>\n",
       "      <td>NB</td>\n",
       "      <td>Tier 3</td>\n",
       "      <td>19.6%</td>\n",
       "    </tr>\n",
       "    <tr>\n",
       "      <th>4</th>\n",
       "      <td>WB</td>\n",
       "      <td>Not eligible</td>\n",
       "      <td>68.3%</td>\n",
       "    </tr>\n",
       "    <tr>\n",
       "      <th>5</th>\n",
       "      <td>WB</td>\n",
       "      <td>Tier 1</td>\n",
       "      <td>4.5%</td>\n",
       "    </tr>\n",
       "    <tr>\n",
       "      <th>6</th>\n",
       "      <td>WB</td>\n",
       "      <td>Tier 2</td>\n",
       "      <td>5.6%</td>\n",
       "    </tr>\n",
       "    <tr>\n",
       "      <th>7</th>\n",
       "      <td>WB</td>\n",
       "      <td>Tier 3</td>\n",
       "      <td>21.6%</td>\n",
       "    </tr>\n",
       "  </tbody>\n",
       "</table>\n",
       "</div>"
      ],
      "text/plain": [
       "  WB_NB_CAT Lounge_eligibility_tier pax_eligible%\n",
       "0        NB            Not eligible         72.7%\n",
       "1        NB                  Tier 1          0.6%\n",
       "2        NB                  Tier 2          7.0%\n",
       "3        NB                  Tier 3         19.6%\n",
       "4        WB            Not eligible         68.3%\n",
       "5        WB                  Tier 1          4.5%\n",
       "6        WB                  Tier 2          5.6%\n",
       "7        WB                  Tier 3         21.6%"
      ]
     },
     "execution_count": 69,
     "metadata": {},
     "output_type": "execute_result"
    }
   ],
   "source": [
    "# a look at the data\n",
    "df_groupby_wb_nb"
   ]
  },
  {
   "cell_type": "code",
   "execution_count": 70,
   "metadata": {},
   "outputs": [],
   "source": [
    "# dropping 'not eligible' rows - not needed anymore\n",
    "mask = df_groupby_wb_nb['Lounge_eligibility_tier'] == 'Not eligible'\n",
    "\n",
    "df_groupby_wb_nb = df_groupby_wb_nb[~mask].copy()"
   ]
  },
  {
   "cell_type": "markdown",
   "metadata": {},
   "source": [
    "<br>\n",
    "\n",
    "Please save your final lookup table below in the form of a pandas dataframe. It must contain the categories you have come up with as rows, and the Tier 1, Tier 2, and Tier 3 percentage of costumers as columns."
   ]
  },
  {
   "cell_type": "code",
   "execution_count": 71,
   "metadata": {},
   "outputs": [],
   "source": [
    "# using set_index to come up with the final lookup table\n",
    "df_groupby_wb_nb = df_groupby_wb_nb.set_index(['WB_NB_CAT','Lounge_eligibility_tier'],drop = True).unstack('Lounge_eligibility_tier')"
   ]
  },
  {
   "cell_type": "code",
   "execution_count": 72,
   "metadata": {},
   "outputs": [
    {
     "data": {
      "text/html": [
       "<div>\n",
       "<style scoped>\n",
       "    .dataframe tbody tr th:only-of-type {\n",
       "        vertical-align: middle;\n",
       "    }\n",
       "\n",
       "    .dataframe tbody tr th {\n",
       "        vertical-align: top;\n",
       "    }\n",
       "\n",
       "    .dataframe thead tr th {\n",
       "        text-align: left;\n",
       "    }\n",
       "\n",
       "    .dataframe thead tr:last-of-type th {\n",
       "        text-align: right;\n",
       "    }\n",
       "</style>\n",
       "<table border=\"1\" class=\"dataframe\">\n",
       "  <thead>\n",
       "    <tr>\n",
       "      <th></th>\n",
       "      <th colspan=\"3\" halign=\"left\">pax_eligible%</th>\n",
       "    </tr>\n",
       "    <tr>\n",
       "      <th>Lounge_eligibility_tier</th>\n",
       "      <th>Tier 1</th>\n",
       "      <th>Tier 2</th>\n",
       "      <th>Tier 3</th>\n",
       "    </tr>\n",
       "    <tr>\n",
       "      <th>WB_NB_CAT</th>\n",
       "      <th></th>\n",
       "      <th></th>\n",
       "      <th></th>\n",
       "    </tr>\n",
       "  </thead>\n",
       "  <tbody>\n",
       "    <tr>\n",
       "      <th>NB</th>\n",
       "      <td>0.6%</td>\n",
       "      <td>7.0%</td>\n",
       "      <td>19.6%</td>\n",
       "    </tr>\n",
       "    <tr>\n",
       "      <th>WB</th>\n",
       "      <td>4.5%</td>\n",
       "      <td>5.6%</td>\n",
       "      <td>21.6%</td>\n",
       "    </tr>\n",
       "  </tbody>\n",
       "</table>\n",
       "</div>"
      ],
      "text/plain": [
       "                        pax_eligible%              \n",
       "Lounge_eligibility_tier        Tier 1 Tier 2 Tier 3\n",
       "WB_NB_CAT                                          \n",
       "NB                               0.6%   7.0%  19.6%\n",
       "WB                               4.5%   5.6%  21.6%"
      ]
     },
     "execution_count": 72,
     "metadata": {},
     "output_type": "execute_result"
    }
   ],
   "source": [
    "# final table\n",
    "df_groupby_wb_nb"
   ]
  },
  {
   "cell_type": "markdown",
   "metadata": {},
   "source": [
    "<br>\n",
    "\n",
    "**Feedback:** This analysis provides a lookup table in the format needed to be input into a future schedule. Nevertheless, this analysis is too high level and you haven't provided any evidence for your assumptions. To further enhance your answer use insights from the data and provide evidence for your assumptions. Please find some ideas below: \n",
    "\n",
    "- Using the same categories (WB,NB), plot data overtime to better understand the peaks for the different lounges. \n",
    "- Is there a way to split Widebody into more categories? Do the Haul, Region, Time of Day, or Country play a role in the number of passengers that are eligible in Tier 1, Tier 2 and Tier 3? Etc..."
   ]
  },
  {
   "cell_type": "markdown",
   "metadata": {},
   "source": [
    "<br><br>\n",
    "\n",
    "**Reasoning (Example 2)**:\n",
    "\n"
   ]
  },
  {
   "cell_type": "markdown",
   "metadata": {},
   "source": [
    "<u>What level of granularity do you use?</u>\n",
    "- I have decided to split all flights in the network based on their flight number. I will therefore have a lookup table with a lot of categories as each flight number is a category. \n",
    "\n",
    "<u>What metric do you use to come up with Lounge eligibility profiles?</u>\n",
    "- I have sumed up all the passengers by flight number, by Tier. Then I have divided them by the total number of passengers flight number.  "
   ]
  },
  {
   "cell_type": "code",
   "execution_count": 73,
   "metadata": {},
   "outputs": [],
   "source": [
    "# your code here!"
   ]
  },
  {
   "cell_type": "code",
   "execution_count": 74,
   "metadata": {},
   "outputs": [
    {
     "data": {
      "text/html": [
       "<div>\n",
       "<style scoped>\n",
       "    .dataframe tbody tr th:only-of-type {\n",
       "        vertical-align: middle;\n",
       "    }\n",
       "\n",
       "    .dataframe tbody tr th {\n",
       "        vertical-align: top;\n",
       "    }\n",
       "\n",
       "    .dataframe thead th {\n",
       "        text-align: right;\n",
       "    }\n",
       "</style>\n",
       "<table border=\"1\" class=\"dataframe\">\n",
       "  <thead>\n",
       "    <tr style=\"text-align: right;\">\n",
       "      <th></th>\n",
       "      <th>OPERATING_FLT_NO</th>\n",
       "      <th>DISCHARGE_STN_CD</th>\n",
       "      <th>Lounge_eligibility_tier</th>\n",
       "      <th>pax_count</th>\n",
       "    </tr>\n",
       "  </thead>\n",
       "  <tbody>\n",
       "    <tr>\n",
       "      <th>0</th>\n",
       "      <td>5</td>\n",
       "      <td>NRT</td>\n",
       "      <td>Not eligible</td>\n",
       "      <td>29385</td>\n",
       "    </tr>\n",
       "    <tr>\n",
       "      <th>1</th>\n",
       "      <td>5</td>\n",
       "      <td>NRT</td>\n",
       "      <td>Tier 1</td>\n",
       "      <td>2043</td>\n",
       "    </tr>\n",
       "    <tr>\n",
       "      <th>2</th>\n",
       "      <td>5</td>\n",
       "      <td>NRT</td>\n",
       "      <td>Tier 2</td>\n",
       "      <td>2237</td>\n",
       "    </tr>\n",
       "    <tr>\n",
       "      <th>3</th>\n",
       "      <td>5</td>\n",
       "      <td>NRT</td>\n",
       "      <td>Tier 3</td>\n",
       "      <td>8581</td>\n",
       "    </tr>\n",
       "  </tbody>\n",
       "</table>\n",
       "</div>"
      ],
      "text/plain": [
       "   OPERATING_FLT_NO DISCHARGE_STN_CD Lounge_eligibility_tier  pax_count\n",
       "0                 5              NRT            Not eligible      29385\n",
       "1                 5              NRT                  Tier 1       2043\n",
       "2                 5              NRT                  Tier 2       2237\n",
       "3                 5              NRT                  Tier 3       8581"
      ]
     },
     "execution_count": 74,
     "metadata": {},
     "output_type": "execute_result"
    }
   ],
   "source": [
    "# columns that you want to group by\n",
    "list_groupby = ['OPERATING_FLT_NO','DISCHARGE_STN_CD','Lounge_eligibility_tier']\n",
    "\n",
    "# grouping by OPERATING_FLT_NO, DISCHARGE_STN_CD and Lounge_eligibility_tier\n",
    "df_groupby_flt_no = df_lounge_elig_flight_info_country_acft_typ.groupby(list_groupby).agg(\n",
    "                pax_count = ('pax','sum')\n",
    ").reset_index()\n",
    "\n",
    "# a look at the data\n",
    "df_groupby_flt_no.head(4)"
   ]
  },
  {
   "cell_type": "code",
   "execution_count": 75,
   "metadata": {},
   "outputs": [],
   "source": [
    "# getting the number of pax by OPERATING_FLT_NO and DISCHARGE_STN_CD\n",
    "\n",
    "# columns that you want to group by\n",
    "list_groupby = ['OPERATING_FLT_NO','DISCHARGE_STN_CD']\n",
    "\n",
    "# grouping by WB_NB_CAT\n",
    "df_groupby_flt_no_ttl = df_lounge_elig_flight_info_country_acft_typ.groupby(list_groupby).agg(\n",
    "                pax_count_ttl = ('pax','sum')\n",
    ").reset_index()"
   ]
  },
  {
   "cell_type": "code",
   "execution_count": 76,
   "metadata": {},
   "outputs": [
    {
     "data": {
      "text/html": [
       "<div>\n",
       "<style scoped>\n",
       "    .dataframe tbody tr th:only-of-type {\n",
       "        vertical-align: middle;\n",
       "    }\n",
       "\n",
       "    .dataframe tbody tr th {\n",
       "        vertical-align: top;\n",
       "    }\n",
       "\n",
       "    .dataframe thead th {\n",
       "        text-align: right;\n",
       "    }\n",
       "</style>\n",
       "<table border=\"1\" class=\"dataframe\">\n",
       "  <thead>\n",
       "    <tr style=\"text-align: right;\">\n",
       "      <th></th>\n",
       "      <th>OPERATING_FLT_NO</th>\n",
       "      <th>DISCHARGE_STN_CD</th>\n",
       "      <th>pax_count_ttl</th>\n",
       "    </tr>\n",
       "  </thead>\n",
       "  <tbody>\n",
       "    <tr>\n",
       "      <th>0</th>\n",
       "      <td>5</td>\n",
       "      <td>NRT</td>\n",
       "      <td>42246</td>\n",
       "    </tr>\n",
       "    <tr>\n",
       "      <th>1</th>\n",
       "      <td>7</td>\n",
       "      <td>HND</td>\n",
       "      <td>60228</td>\n",
       "    </tr>\n",
       "  </tbody>\n",
       "</table>\n",
       "</div>"
      ],
      "text/plain": [
       "   OPERATING_FLT_NO DISCHARGE_STN_CD  pax_count_ttl\n",
       "0                 5              NRT          42246\n",
       "1                 7              HND          60228"
      ]
     },
     "execution_count": 76,
     "metadata": {},
     "output_type": "execute_result"
    }
   ],
   "source": [
    "# a look at the data\n",
    "df_groupby_flt_no_ttl.head(2)"
   ]
  },
  {
   "cell_type": "code",
   "execution_count": 77,
   "metadata": {},
   "outputs": [],
   "source": [
    "# now, let's left join df_groupby_flt_no_ttl onto df_groupby_flt_no\n",
    "# this adds a new column to the df_groupby_flt_no table (pax_count_ttl) that will be used to get the percentage of passenger eligible by Tier\n",
    "\n",
    "df_groupby_flt_no = pd.merge(df_groupby_flt_no,\n",
    "                            df_groupby_flt_no_ttl,\n",
    "                            on = ['OPERATING_FLT_NO','DISCHARGE_STN_CD'],\n",
    "                            how = 'left'\n",
    "                           )"
   ]
  },
  {
   "cell_type": "code",
   "execution_count": 78,
   "metadata": {},
   "outputs": [
    {
     "data": {
      "text/html": [
       "<div>\n",
       "<style scoped>\n",
       "    .dataframe tbody tr th:only-of-type {\n",
       "        vertical-align: middle;\n",
       "    }\n",
       "\n",
       "    .dataframe tbody tr th {\n",
       "        vertical-align: top;\n",
       "    }\n",
       "\n",
       "    .dataframe thead th {\n",
       "        text-align: right;\n",
       "    }\n",
       "</style>\n",
       "<table border=\"1\" class=\"dataframe\">\n",
       "  <thead>\n",
       "    <tr style=\"text-align: right;\">\n",
       "      <th></th>\n",
       "      <th>OPERATING_FLT_NO</th>\n",
       "      <th>DISCHARGE_STN_CD</th>\n",
       "      <th>Lounge_eligibility_tier</th>\n",
       "      <th>pax_count</th>\n",
       "      <th>pax_count_ttl</th>\n",
       "    </tr>\n",
       "  </thead>\n",
       "  <tbody>\n",
       "    <tr>\n",
       "      <th>0</th>\n",
       "      <td>5</td>\n",
       "      <td>NRT</td>\n",
       "      <td>Not eligible</td>\n",
       "      <td>29385</td>\n",
       "      <td>42246</td>\n",
       "    </tr>\n",
       "    <tr>\n",
       "      <th>1</th>\n",
       "      <td>5</td>\n",
       "      <td>NRT</td>\n",
       "      <td>Tier 1</td>\n",
       "      <td>2043</td>\n",
       "      <td>42246</td>\n",
       "    </tr>\n",
       "    <tr>\n",
       "      <th>2</th>\n",
       "      <td>5</td>\n",
       "      <td>NRT</td>\n",
       "      <td>Tier 2</td>\n",
       "      <td>2237</td>\n",
       "      <td>42246</td>\n",
       "    </tr>\n",
       "    <tr>\n",
       "      <th>3</th>\n",
       "      <td>5</td>\n",
       "      <td>NRT</td>\n",
       "      <td>Tier 3</td>\n",
       "      <td>8581</td>\n",
       "      <td>42246</td>\n",
       "    </tr>\n",
       "  </tbody>\n",
       "</table>\n",
       "</div>"
      ],
      "text/plain": [
       "   OPERATING_FLT_NO DISCHARGE_STN_CD Lounge_eligibility_tier  pax_count  \\\n",
       "0                 5              NRT            Not eligible      29385   \n",
       "1                 5              NRT                  Tier 1       2043   \n",
       "2                 5              NRT                  Tier 2       2237   \n",
       "3                 5              NRT                  Tier 3       8581   \n",
       "\n",
       "   pax_count_ttl  \n",
       "0          42246  \n",
       "1          42246  \n",
       "2          42246  \n",
       "3          42246  "
      ]
     },
     "execution_count": 78,
     "metadata": {},
     "output_type": "execute_result"
    }
   ],
   "source": [
    "# a look at the data\n",
    "df_groupby_flt_no.head(4)"
   ]
  },
  {
   "cell_type": "code",
   "execution_count": 79,
   "metadata": {},
   "outputs": [],
   "source": [
    "# getting the percentage of pax elegible for each of the Tiers\n",
    "\n",
    "df_groupby_flt_no['pax_eligible%'] = (df_groupby_flt_no['pax_count'] / df_groupby_flt_no['pax_count_ttl'] )*100 \n",
    "\n",
    "# getting the pax_elegible% column in the right format\n",
    "df_groupby_flt_no['pax_eligible%'] = df_groupby_flt_no['pax_eligible%'].map('{:,.1f}%'.format)\n",
    "\n",
    "# dropping pax_count, pax_count_ttl columns - not needed anymore\n",
    "df_groupby_flt_no.drop(columns=['pax_count','pax_count_ttl'],inplace = True)"
   ]
  },
  {
   "cell_type": "code",
   "execution_count": 80,
   "metadata": {},
   "outputs": [
    {
     "data": {
      "text/html": [
       "<div>\n",
       "<style scoped>\n",
       "    .dataframe tbody tr th:only-of-type {\n",
       "        vertical-align: middle;\n",
       "    }\n",
       "\n",
       "    .dataframe tbody tr th {\n",
       "        vertical-align: top;\n",
       "    }\n",
       "\n",
       "    .dataframe thead th {\n",
       "        text-align: right;\n",
       "    }\n",
       "</style>\n",
       "<table border=\"1\" class=\"dataframe\">\n",
       "  <thead>\n",
       "    <tr style=\"text-align: right;\">\n",
       "      <th></th>\n",
       "      <th>OPERATING_FLT_NO</th>\n",
       "      <th>DISCHARGE_STN_CD</th>\n",
       "      <th>Lounge_eligibility_tier</th>\n",
       "      <th>pax_eligible%</th>\n",
       "    </tr>\n",
       "  </thead>\n",
       "  <tbody>\n",
       "    <tr>\n",
       "      <th>0</th>\n",
       "      <td>5</td>\n",
       "      <td>NRT</td>\n",
       "      <td>Not eligible</td>\n",
       "      <td>69.6%</td>\n",
       "    </tr>\n",
       "    <tr>\n",
       "      <th>1</th>\n",
       "      <td>5</td>\n",
       "      <td>NRT</td>\n",
       "      <td>Tier 1</td>\n",
       "      <td>4.8%</td>\n",
       "    </tr>\n",
       "    <tr>\n",
       "      <th>2</th>\n",
       "      <td>5</td>\n",
       "      <td>NRT</td>\n",
       "      <td>Tier 2</td>\n",
       "      <td>5.3%</td>\n",
       "    </tr>\n",
       "    <tr>\n",
       "      <th>3</th>\n",
       "      <td>5</td>\n",
       "      <td>NRT</td>\n",
       "      <td>Tier 3</td>\n",
       "      <td>20.3%</td>\n",
       "    </tr>\n",
       "  </tbody>\n",
       "</table>\n",
       "</div>"
      ],
      "text/plain": [
       "   OPERATING_FLT_NO DISCHARGE_STN_CD Lounge_eligibility_tier pax_eligible%\n",
       "0                 5              NRT            Not eligible         69.6%\n",
       "1                 5              NRT                  Tier 1          4.8%\n",
       "2                 5              NRT                  Tier 2          5.3%\n",
       "3                 5              NRT                  Tier 3         20.3%"
      ]
     },
     "execution_count": 80,
     "metadata": {},
     "output_type": "execute_result"
    }
   ],
   "source": [
    "# a look at the data\n",
    "df_groupby_flt_no.head(4)"
   ]
  },
  {
   "cell_type": "code",
   "execution_count": 81,
   "metadata": {},
   "outputs": [],
   "source": [
    "# dropping 'not eligible' rows - not needed anymore\n",
    "mask = df_groupby_flt_no['Lounge_eligibility_tier'] == 'Not eligible'\n",
    "\n",
    "df_groupby_flt_no = df_groupby_flt_no[~mask].copy()"
   ]
  },
  {
   "cell_type": "markdown",
   "metadata": {},
   "source": [
    "<br>\n",
    "\n",
    "Please save your final lookup table below in the form of a pandas dataframe. It must contain the categories you have come up with as rows, and the Tier 1, Tier 2, and Tier 3 percentage of costumers as columns."
   ]
  },
  {
   "cell_type": "code",
   "execution_count": 82,
   "metadata": {},
   "outputs": [],
   "source": [
    "# using set_index to come up with the final lookup table\n",
    "df_groupby_flt_no = df_groupby_flt_no.set_index(['OPERATING_FLT_NO','DISCHARGE_STN_CD','Lounge_eligibility_tier'],drop = True).unstack('Lounge_eligibility_tier')"
   ]
  },
  {
   "cell_type": "code",
   "execution_count": 83,
   "metadata": {},
   "outputs": [
    {
     "data": {
      "text/html": [
       "<div>\n",
       "<style scoped>\n",
       "    .dataframe tbody tr th:only-of-type {\n",
       "        vertical-align: middle;\n",
       "    }\n",
       "\n",
       "    .dataframe tbody tr th {\n",
       "        vertical-align: top;\n",
       "    }\n",
       "\n",
       "    .dataframe thead tr th {\n",
       "        text-align: left;\n",
       "    }\n",
       "\n",
       "    .dataframe thead tr:last-of-type th {\n",
       "        text-align: right;\n",
       "    }\n",
       "</style>\n",
       "<table border=\"1\" class=\"dataframe\">\n",
       "  <thead>\n",
       "    <tr>\n",
       "      <th></th>\n",
       "      <th></th>\n",
       "      <th colspan=\"3\" halign=\"left\">pax_eligible%</th>\n",
       "    </tr>\n",
       "    <tr>\n",
       "      <th></th>\n",
       "      <th>Lounge_eligibility_tier</th>\n",
       "      <th>Tier 1</th>\n",
       "      <th>Tier 2</th>\n",
       "      <th>Tier 3</th>\n",
       "    </tr>\n",
       "    <tr>\n",
       "      <th>OPERATING_FLT_NO</th>\n",
       "      <th>DISCHARGE_STN_CD</th>\n",
       "      <th></th>\n",
       "      <th></th>\n",
       "      <th></th>\n",
       "    </tr>\n",
       "  </thead>\n",
       "  <tbody>\n",
       "    <tr>\n",
       "      <th>5</th>\n",
       "      <th>NRT</th>\n",
       "      <td>4.8%</td>\n",
       "      <td>5.3%</td>\n",
       "      <td>20.3%</td>\n",
       "    </tr>\n",
       "    <tr>\n",
       "      <th>7</th>\n",
       "      <th>HND</th>\n",
       "      <td>6.6%</td>\n",
       "      <td>6.1%</td>\n",
       "      <td>20.9%</td>\n",
       "    </tr>\n",
       "    <tr>\n",
       "      <th>9</th>\n",
       "      <th>BKK</th>\n",
       "      <td>0.4%</td>\n",
       "      <td>4.9%</td>\n",
       "      <td>18.7%</td>\n",
       "    </tr>\n",
       "    <tr>\n",
       "      <th>11</th>\n",
       "      <th>SIN</th>\n",
       "      <td>4.3%</td>\n",
       "      <td>7.0%</td>\n",
       "      <td>22.6%</td>\n",
       "    </tr>\n",
       "  </tbody>\n",
       "</table>\n",
       "</div>"
      ],
      "text/plain": [
       "                                  pax_eligible%              \n",
       "Lounge_eligibility_tier                  Tier 1 Tier 2 Tier 3\n",
       "OPERATING_FLT_NO DISCHARGE_STN_CD                            \n",
       "5                NRT                       4.8%   5.3%  20.3%\n",
       "7                HND                       6.6%   6.1%  20.9%\n",
       "9                BKK                       0.4%   4.9%  18.7%\n",
       "11               SIN                       4.3%   7.0%  22.6%"
      ]
     },
     "execution_count": 83,
     "metadata": {},
     "output_type": "execute_result"
    }
   ],
   "source": [
    "# final table\n",
    "df_groupby_flt_no.head(4)"
   ]
  },
  {
   "cell_type": "markdown",
   "metadata": {},
   "source": [
    "<br>\n",
    "\n",
    "**Feedback:** This analysis goes at a very granular level, we might come up with missing values if we apply this lounge eligibility profiles to a future schedule. Here are some ideas to further enhance your answer: \n",
    "\n",
    "- What would happen if we fly to a new destination in the future? How do we ensure we have a lounge eligibility profile for this new route?\n",
    "- As you can see in the example above: Pax eligible for Tier 1 for the BKK flight is significantly different from the rest. What's the most used aircraft type for this route? And why it differs that much from the rest? Is it because of the route characteristics instead?\n",
    "- For SH routes, we might change the time of departure for a specific flight number from one year to the next. Explore the possibility of using a clasification that takes that into account, like using Time of Day instead of flight number. "
   ]
  },
  {
   "cell_type": "markdown",
   "metadata": {},
   "source": [
    "<br><br><br>"
   ]
  },
  {
   "cell_type": "code",
   "execution_count": null,
   "metadata": {},
   "outputs": [],
   "source": [
    "#--------------------------------\n",
    "#\n",
    "# Your turn!!!\n",
    "#\n",
    "#--------------------------------"
   ]
  },
  {
   "cell_type": "markdown",
   "metadata": {},
   "source": [
    "<u>What level of granularity do you use?</u>\n",
    "- ... (your answer here)\n",
    "\n",
    "<u>What metric do you use to come up with Lounge eligibility profiles?</u>\n",
    "- ... (your answer here)"
   ]
  },
  {
   "cell_type": "code",
   "execution_count": null,
   "metadata": {},
   "outputs": [],
   "source": [
    "# your code here"
   ]
  },
  {
   "cell_type": "markdown",
   "metadata": {},
   "source": [
    "<br>\n",
    "\n",
    "Please save your final lookup table below in the form of a pandas dataframe. It must contain the categories you have come up with as rows, and the Tier 1, Tier 2, and Tier 3 percentage of costumers as columns."
   ]
  },
  {
   "cell_type": "code",
   "execution_count": null,
   "metadata": {},
   "outputs": [],
   "source": []
  }
 ],
 "metadata": {
  "instance_type": "ml.t3.medium",
  "kernelspec": {
   "display_name": "Python 3",
   "language": "python",
   "name": "python3"
  },
  "language_info": {
   "codemirror_mode": {
    "name": "ipython",
    "version": 3
   },
   "file_extension": ".py",
   "mimetype": "text/x-python",
   "name": "python",
   "nbconvert_exporter": "python",
   "pygments_lexer": "ipython3",
   "version": "3.7.0"
  },
  "lcc_arn": "arn:aws:sagemaker:eu-west-1:954353547965:studio-lifecycle-config/install-cadspy-v1-8-1r2"
 },
 "nbformat": 4,
 "nbformat_minor": 4
}
